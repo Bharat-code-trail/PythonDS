{
  "nbformat": 4,
  "nbformat_minor": 0,
  "metadata": {
    "colab": {
      "provenance": []
    },
    "kernelspec": {
      "name": "python3",
      "display_name": "Python 3"
    },
    "language_info": {
      "name": "python"
    }
  },
  "cells": [
    {
      "cell_type": "markdown",
      "source": [
        "# **What is Data type?**\n",
        "A data type in Python defines the type of value a variable can hold, such as numbers, text, or complex data structures. Python has built-in data types like int, float, complex, bool, str, list, tuple, set, and dict."
      ],
      "metadata": {
        "id": "8mDj-eT-o164"
      }
    },
    {
      "cell_type": "code",
      "execution_count": 2,
      "metadata": {
        "id": "qlPLPo4Ao0UG"
      },
      "outputs": [],
      "source": [
        "#Integers\n",
        "x1 = 10\n",
        "x2 = -5\n",
        "x3 = 100000\n",
        "x4 = 0\n",
        "x5 = 42\n",
        "x6 = -999\n",
        "x7 = 123456789\n",
        "x8 = 75\n",
        "x9 = -3000\n",
        "x10 = 2024"
      ]
    },
    {
      "cell_type": "code",
      "source": [
        "#Float\n",
        "y1 = 10.5\n",
        "y2 = -3.14\n",
        "y3 = 0.0\n",
        "y4 = 2.718\n",
        "y5 = -99.99\n",
        "y6 = 1.0\n",
        "y7 = 12345.6789"
      ],
      "metadata": {
        "id": "HkYorU7VpAkZ"
      },
      "execution_count": 3,
      "outputs": []
    },
    {
      "cell_type": "code",
      "source": [
        "#Complex\n",
        "z1 = 2 + 3j\n",
        "z2 = -1 - 4j\n",
        "z3 = 0 + 0j\n",
        "z4 = 5j\n",
        "z5 = 7 - 2j\n",
        "z6 = -3.5 + 6.1j\n",
        "z7 = 10 + 0j"
      ],
      "metadata": {
        "id": "-aJ6ts1TpOHJ"
      },
      "execution_count": null,
      "outputs": []
    },
    {
      "cell_type": "code",
      "source": [
        "# Boolean\n",
        "b1 = True\n",
        "b2 = False\n",
        "b3 = 5 > 3  # True\n",
        "b4 = 10 < 2  # False\n",
        "b5 = bool(1)  # True\n",
        "b6 = bool(0)  # False\n",
        "b7 = bool(\"Python\")  # True\n",
        "print(b2)\n",
        "print(b3)\n",
        "print(b4)\n",
        "print(b5)\n",
        "print(b6)"
      ],
      "metadata": {
        "colab": {
          "base_uri": "https://localhost:8080/"
        },
        "id": "AkPuu_F4pTCK",
        "outputId": "1e4c869d-2135-48da-b3c8-5945313ae971"
      },
      "execution_count": 5,
      "outputs": [
        {
          "output_type": "stream",
          "name": "stdout",
          "text": [
            "False\n",
            "True\n",
            "False\n",
            "True\n",
            "False\n"
          ]
        }
      ]
    },
    {
      "cell_type": "markdown",
      "source": [
        "# **What is Type Conversion?**\n",
        "\n",
        "Type Conversion :\n",
        "Type conversion is changing one data type to another using built-in functions like int(), float(), str(), bool()."
      ],
      "metadata": {
        "id": "zgYKzhffpnt5"
      }
    },
    {
      "cell_type": "code",
      "source": [
        "a = 10\n",
        "b = float(a)  # Convert int to float\n",
        "c = str(a)  # Convert int to string\n",
        "d = int(3.14)  # Convert float to int\n",
        "e = bool(0)  # Convert to boolean\n",
        "print(a)\n",
        "print(b)\n",
        "print(c)\n",
        "print(d)\n",
        "print(e)"
      ],
      "metadata": {
        "colab": {
          "base_uri": "https://localhost:8080/"
        },
        "id": "v57bmrvvpv51",
        "outputId": "356cd4d3-8e3b-42b8-e7d4-6710901e6580"
      },
      "execution_count": 7,
      "outputs": [
        {
          "output_type": "stream",
          "name": "stdout",
          "text": [
            "10\n",
            "10.0\n",
            "10\n",
            "3\n",
            "False\n"
          ]
        }
      ]
    },
    {
      "cell_type": "markdown",
      "source": [
        "# **What is type() function ?**\n",
        "\n",
        "type() : function is used to check the data type of a variable."
      ],
      "metadata": {
        "id": "kSAqkUvgp-uz"
      }
    },
    {
      "cell_type": "code",
      "source": [
        "print(type(a))\n",
        "print(type(b))\n",
        "print(type(c))\n",
        "print(type(d))\n",
        "print(type(e))"
      ],
      "metadata": {
        "colab": {
          "base_uri": "https://localhost:8080/"
        },
        "id": "OPQQvoRfpzy4",
        "outputId": "011eb285-21c4-471e-f89a-bf3d595f7fb7"
      },
      "execution_count": 8,
      "outputs": [
        {
          "output_type": "stream",
          "name": "stdout",
          "text": [
            "<class 'int'>\n",
            "<class 'float'>\n",
            "<class 'str'>\n",
            "<class 'int'>\n",
            "<class 'bool'>\n"
          ]
        }
      ]
    }
  ]
}