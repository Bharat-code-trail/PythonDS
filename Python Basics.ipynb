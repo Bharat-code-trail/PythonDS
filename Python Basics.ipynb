{
 "cells": [
  {
   "cell_type": "markdown",
   "id": "ca9d7f52-a80c-4295-ac31-653d5b3ce27a",
   "metadata": {},
   "source": [
    "What is Python?\n",
    "\n",
    "Python is a high-level, interpreted programming language known for its simplicity and readability. It supports multiple paradigms like object-oriented, procedural, and functional programming. Python’s extensive libraries and community support make it widely used for web development, data science, automation, artificial intelligence, and more.\n",
    "\n",
    "Why do we use Python?\n",
    "\n",
    "Python is used for its simplicity, flexibility, and vast libraries. It allows rapid development with fewer lines of code, making it ideal for beginners and professionals. Python is widely used in automation, AI, web development, and data analysis due to its efficiency and cross-platform compatibility.\n",
    "\n",
    "Applications of Python\n",
    "\n",
    "Python is used in various fields like web development (Django, Flask), data science (Pandas, NumPy), artificial intelligence (TensorFlow, PyTorch), automation (Selenium), cybersecurity, game development, and cloud computing. Its versatility makes it a preferred language for both startups and large enterprises.\n",
    "\n",
    "What are comments and examples?\n",
    "\n",
    "Comments in Python are non-executable lines used for code explanation and readability. They are ignored during execution.\n",
    "Example : # This is a single-line comment  \n",
    "What are keywords?\n",
    "\n",
    "Keywords are reserved words in Python with predefined meanings that cannot be used as variable names. Examples include if, else, while, def, return, import, and class. These words help define the syntax and structure of Python programs.\n",
    "\n",
    "What are variables?\n",
    "\n",
    "Variables store data values in Python. They act as placeholders for data and can hold different data types like numbers, strings, or lists.\n",
    "Example: x = 10  \n",
    "name = \"Python\"\n"
   ]
  },
  {
   "cell_type": "code",
   "execution_count": null,
   "id": "c2476d22-9677-41c7-8451-93d158c745b7",
   "metadata": {},
   "outputs": [],
   "source": []
  }
 ],
 "metadata": {
  "kernelspec": {
   "display_name": "Python [conda env:base] *",
   "language": "python",
   "name": "conda-base-py"
  },
  "language_info": {
   "codemirror_mode": {
    "name": "ipython",
    "version": 3
   },
   "file_extension": ".py",
   "mimetype": "text/x-python",
   "name": "python",
   "nbconvert_exporter": "python",
   "pygments_lexer": "ipython3",
   "version": "3.12.7"
  }
 },
 "nbformat": 4,
 "nbformat_minor": 5
}
