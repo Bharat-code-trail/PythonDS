{
  "nbformat": 4,
  "nbformat_minor": 0,
  "metadata": {
    "colab": {
      "provenance": []
    },
    "kernelspec": {
      "name": "python3",
      "display_name": "Python 3"
    },
    "language_info": {
      "name": "python"
    }
  },
  "cells": [
    {
      "cell_type": "markdown",
      "source": [
        "# Set( ):\n",
        "\n",
        "Unordered Collection – Elements in a set have no specific order.\n",
        "\n",
        "Duplicate values are automatically removed.\n",
        "\n",
        "You can add or remove elements, but individual elements are immutable.\n",
        "\n",
        "Represented Using {} and separated by \" , \"."
      ],
      "metadata": {
        "id": "Bp62PX5ELL87"
      }
    },
    {
      "cell_type": "code",
      "execution_count": 1,
      "metadata": {
        "colab": {
          "base_uri": "https://localhost:8080/"
        },
        "id": "1aplBQSjLGLv",
        "outputId": "ddf2bcea-1bf3-43db-c9fb-fe465fd1a3ef"
      },
      "outputs": [
        {
          "output_type": "stream",
          "name": "stdout",
          "text": [
            "{32, 1, 2, 3, 4, 34, 22}\n"
          ]
        }
      ],
      "source": [
        "a={1,2,3,4,1,32,34,2,22}\n",
        "print(a)"
      ]
    },
    {
      "cell_type": "code",
      "source": [
        "type(a)"
      ],
      "metadata": {
        "colab": {
          "base_uri": "https://localhost:8080/"
        },
        "id": "7ewGfy7MLcg3",
        "outputId": "2d9b34c5-6396-4f88-e33c-bb6a6d6a42f9"
      },
      "execution_count": 2,
      "outputs": [
        {
          "output_type": "execute_result",
          "data": {
            "text/plain": [
              "set"
            ]
          },
          "metadata": {},
          "execution_count": 2
        }
      ]
    },
    {
      "cell_type": "code",
      "source": [
        "print(type(a))"
      ],
      "metadata": {
        "colab": {
          "base_uri": "https://localhost:8080/"
        },
        "id": "QdB5UJRNLpJg",
        "outputId": "8f587d6b-44d9-4e0e-d33e-cd19398f7442"
      },
      "execution_count": 3,
      "outputs": [
        {
          "output_type": "stream",
          "name": "stdout",
          "text": [
            "<class 'set'>\n"
          ]
        }
      ]
    },
    {
      "cell_type": "markdown",
      "source": [
        "## Set Methods:\n",
        "\n",
        "add():\n",
        "add element to the set.\n"
      ],
      "metadata": {
        "id": "oBvQHlcwLxy2"
      }
    },
    {
      "cell_type": "code",
      "source": [
        "a={1,2,3,4}\n",
        "a.add(6)\n",
        "print(a)"
      ],
      "metadata": {
        "colab": {
          "base_uri": "https://localhost:8080/"
        },
        "id": "RzqL1-wWLtG6",
        "outputId": "d5393672-0c2c-4e61-9741-7c98b0e9a236"
      },
      "execution_count": 4,
      "outputs": [
        {
          "output_type": "stream",
          "name": "stdout",
          "text": [
            "{1, 2, 3, 4, 6}\n"
          ]
        }
      ]
    },
    {
      "cell_type": "markdown",
      "source": [
        "Remove():\n",
        "removes specific element and displays error if element is not found."
      ],
      "metadata": {
        "id": "_SW_8IlPMEt-"
      }
    },
    {
      "cell_type": "code",
      "source": [
        "a.remove(6)\n",
        "print(a)"
      ],
      "metadata": {
        "colab": {
          "base_uri": "https://localhost:8080/"
        },
        "id": "dmBCsWr0MA12",
        "outputId": "180c4f5b-7cfa-4b99-97cf-47e429f43f06"
      },
      "execution_count": 5,
      "outputs": [
        {
          "output_type": "stream",
          "name": "stdout",
          "text": [
            "{1, 2, 3, 4}\n"
          ]
        }
      ]
    },
    {
      "cell_type": "markdown",
      "source": [
        "update( ):\n",
        "used to add multiple elements from another set, list, tuple, or any iterable to an existing set."
      ],
      "metadata": {
        "id": "FZoANamNMSVl"
      }
    },
    {
      "cell_type": "code",
      "source": [
        "a = {1,2,3,4,5}\n",
        "b = {6,7,9,10}\n",
        "a.update(b)\n",
        "print(a)"
      ],
      "metadata": {
        "colab": {
          "base_uri": "https://localhost:8080/"
        },
        "id": "TgVHN4SfMOsu",
        "outputId": "338aa4cd-4e2d-4f7f-8f87-3992642edb73"
      },
      "execution_count": 6,
      "outputs": [
        {
          "output_type": "stream",
          "name": "stdout",
          "text": [
            "{1, 2, 3, 4, 5, 6, 7, 9, 10}\n"
          ]
        }
      ]
    },
    {
      "cell_type": "markdown",
      "source": [
        "clear( ):\n",
        "Used to remove all elements from a set, making it an empty set."
      ],
      "metadata": {
        "id": "Z2Ypv5tIMfxw"
      }
    },
    {
      "cell_type": "code",
      "source": [
        "a.clear()\n",
        "a"
      ],
      "metadata": {
        "colab": {
          "base_uri": "https://localhost:8080/"
        },
        "id": "QOg-C3Y0MXho",
        "outputId": "cee184bd-efb7-49cc-bded-31b2aee13906"
      },
      "execution_count": 7,
      "outputs": [
        {
          "output_type": "execute_result",
          "data": {
            "text/plain": [
              "set()"
            ]
          },
          "metadata": {},
          "execution_count": 7
        }
      ]
    },
    {
      "cell_type": "markdown",
      "source": [
        "# **Set Operators:**"
      ],
      "metadata": {
        "id": "ENb5IBPLMiiT"
      }
    },
    {
      "cell_type": "markdown",
      "source": [
        "### **union( ):**\n",
        "The union() method combines two or more sets\n",
        "Returning a new set with all unique elements"
      ],
      "metadata": {
        "id": "CxVg9087MpGo"
      }
    },
    {
      "cell_type": "code",
      "source": [
        "a = {1,2,3,4,5}\n",
        "b = {4,5,6,7,8}\n",
        "a.union(b)"
      ],
      "metadata": {
        "colab": {
          "base_uri": "https://localhost:8080/"
        },
        "id": "lNqv6mMGMepN",
        "outputId": "ef36766e-e08a-4b76-856a-b0d62da421ac"
      },
      "execution_count": 11,
      "outputs": [
        {
          "output_type": "execute_result",
          "data": {
            "text/plain": [
              "{1, 2, 3, 4, 5, 6, 7, 8}"
            ]
          },
          "metadata": {},
          "execution_count": 11
        }
      ]
    },
    {
      "cell_type": "code",
      "source": [
        "a|b"
      ],
      "metadata": {
        "colab": {
          "base_uri": "https://localhost:8080/"
        },
        "id": "QRT-4-mONPL5",
        "outputId": "0c881211-48f6-4425-908a-3020f53b23af"
      },
      "execution_count": 10,
      "outputs": [
        {
          "output_type": "execute_result",
          "data": {
            "text/plain": [
              "{1, 2, 3, 4, 5, 6}"
            ]
          },
          "metadata": {},
          "execution_count": 10
        }
      ]
    },
    {
      "cell_type": "markdown",
      "source": [
        "### **intersection( ):**\n",
        "Returns a new set containing only the common elements of two or more sets.\n",
        "The result contains only unique elements that exist in all sets."
      ],
      "metadata": {
        "id": "L_MVjAZ5Mtfn"
      }
    },
    {
      "cell_type": "code",
      "source": [
        "a = {1,2,3,4,5}\n",
        "b = {4,5,6,7,8}\n",
        "a.intersection(b)"
      ],
      "metadata": {
        "colab": {
          "base_uri": "https://localhost:8080/"
        },
        "id": "NNny5_soNT01",
        "outputId": "b48cd1b3-c248-4370-c6e0-321316be7be7"
      },
      "execution_count": 12,
      "outputs": [
        {
          "output_type": "execute_result",
          "data": {
            "text/plain": [
              "{4, 5}"
            ]
          },
          "metadata": {},
          "execution_count": 12
        }
      ]
    },
    {
      "cell_type": "code",
      "source": [
        "a & b"
      ],
      "metadata": {
        "colab": {
          "base_uri": "https://localhost:8080/"
        },
        "id": "Kj6rwj5UNXWE",
        "outputId": "626185ab-9fe0-4467-fe38-fd2a8c682b33"
      },
      "execution_count": 13,
      "outputs": [
        {
          "output_type": "execute_result",
          "data": {
            "text/plain": [
              "{4, 5}"
            ]
          },
          "metadata": {},
          "execution_count": 13
        }
      ]
    },
    {
      "cell_type": "markdown",
      "source": [
        "### **Difference( ):**\n",
        "Returns a new set containing elements that are in set A but not in set B."
      ],
      "metadata": {
        "id": "_zbzRY-KM3oT"
      }
    },
    {
      "cell_type": "code",
      "source": [
        "a = {1,2,3,4,5}\n",
        "b = {4,5,6,7,8}\n",
        "a-b"
      ],
      "metadata": {
        "colab": {
          "base_uri": "https://localhost:8080/"
        },
        "id": "W3lSau_2MyMA",
        "outputId": "b58bfd71-11c0-4bc4-b445-3ddde7142351"
      },
      "execution_count": 14,
      "outputs": [
        {
          "output_type": "execute_result",
          "data": {
            "text/plain": [
              "{1, 2, 3}"
            ]
          },
          "metadata": {},
          "execution_count": 14
        }
      ]
    },
    {
      "cell_type": "markdown",
      "source": [
        "### **Symmetric_difference( ):**\n",
        "Returns a new set containing elements that are in either set A or set B, but not in both.\n",
        "\n",
        "You can use the ^ (caret) operator.\n",
        "\n",
        "It returns a new set instead of modifying existing ones.\n",
        "\n",
        "The result contains only unique elements."
      ],
      "metadata": {
        "id": "XP5eVaMGM7X_"
      }
    },
    {
      "cell_type": "code",
      "source": [
        "a = {1, 2, 3, 4}\n",
        "b = {3, 4, 5, 6}\n",
        "result = a.symmetric_difference(b)\n",
        "print(result)"
      ],
      "metadata": {
        "colab": {
          "base_uri": "https://localhost:8080/"
        },
        "id": "EK4Qr5zNND3p",
        "outputId": "869609fa-e506-41bf-b6fb-af48019c64e1"
      },
      "execution_count": 8,
      "outputs": [
        {
          "output_type": "stream",
          "name": "stdout",
          "text": [
            "{1, 2, 5, 6}\n"
          ]
        }
      ]
    },
    {
      "cell_type": "code",
      "source": [
        "a ^ b"
      ],
      "metadata": {
        "colab": {
          "base_uri": "https://localhost:8080/"
        },
        "id": "ewu79wNhNIXv",
        "outputId": "c6ecb1da-3777-462d-f6c9-dc594e7604dc"
      },
      "execution_count": 9,
      "outputs": [
        {
          "output_type": "execute_result",
          "data": {
            "text/plain": [
              "{1, 2, 5, 6}"
            ]
          },
          "metadata": {},
          "execution_count": 9
        }
      ]
    },
    {
      "cell_type": "code",
      "source": [],
      "metadata": {
        "id": "UyK7KJz2NJqM"
      },
      "execution_count": null,
      "outputs": []
    }
  ]
}