{
  "nbformat": 4,
  "nbformat_minor": 0,
  "metadata": {
    "colab": {
      "provenance": []
    },
    "kernelspec": {
      "name": "python3",
      "display_name": "Python 3"
    },
    "language_info": {
      "name": "python"
    }
  },
  "cells": [
    {
      "cell_type": "markdown",
      "source": [
        "# **19/02**"
      ],
      "metadata": {
        "id": "fGHSKqHryyoY"
      }
    },
    {
      "cell_type": "markdown",
      "source": [
        "# ** If statement:**\n",
        "If statement is the simplest form of a conditional statement. It executes a block of code if the given condition is true."
      ],
      "metadata": {
        "id": "4EbJfwje4ZKj"
      }
    },
    {
      "cell_type": "code",
      "source": [
        "i = int(input(\"enter a number\"))\n",
        "if i>0:\n",
        "  print(i,\"is a positive number\")"
      ],
      "metadata": {
        "colab": {
          "base_uri": "https://localhost:8080/"
        },
        "id": "R9u3K73Q3_r7",
        "outputId": "e5734468-ce69-4218-c066-cba457dc3f08"
      },
      "execution_count": 1,
      "outputs": [
        {
          "output_type": "stream",
          "name": "stdout",
          "text": [
            "enter a number23\n",
            "23 is a positive number\n"
          ]
        }
      ]
    },
    {
      "cell_type": "markdown",
      "source": [
        "If else:\n",
        "\n",
        "\n",
        "if(condition):\n",
        "\n",
        "      //Code\n",
        "\n",
        "else:\n",
        "\n",
        "     //Code\n",
        "\n",
        "if condition satisfies then the code block in if is executed or else code block is executed"
      ],
      "metadata": {
        "id": "0oN4ZczJ4s4A"
      }
    },
    {
      "cell_type": "code",
      "source": [
        "a = int(input(\"enter a number\"))\n",
        "if a > 0:\n",
        "  print(a,\"is positive number\")\n",
        "else:\n",
        "  print(a,\"is negitive number\")"
      ],
      "metadata": {
        "colab": {
          "base_uri": "https://localhost:8080/"
        },
        "id": "L_oZVfiW5JOp",
        "outputId": "22936711-2ddd-45cd-df37-6f3689691295"
      },
      "execution_count": 2,
      "outputs": [
        {
          "output_type": "stream",
          "name": "stdout",
          "text": [
            "enter a number-1\n",
            "-1 is negitive number\n"
          ]
        }
      ]
    },
    {
      "cell_type": "markdown",
      "source": [
        "elif:\n",
        "\n",
        "multiple if else conditions can be mentioned."
      ],
      "metadata": {
        "id": "HSDP-Ve15e1K"
      }
    },
    {
      "cell_type": "code",
      "source": [
        "b= int(input(\"enter a number\"))\n",
        "if b>0:\n",
        "  print(b,\"is positive number\")\n",
        "elif b<0:\n",
        "  print(b,\"is negitive number\")\n",
        "else:\n",
        "  print(b,\"is zero\")"
      ],
      "metadata": {
        "colab": {
          "base_uri": "https://localhost:8080/"
        },
        "id": "IE2bGfLq5kJC",
        "outputId": "61e83a71-28bf-4d7c-f5c0-fb6d8c36028c"
      },
      "execution_count": 3,
      "outputs": [
        {
          "output_type": "stream",
          "name": "stdout",
          "text": [
            "enter a number0\n",
            "0 is zero\n"
          ]
        }
      ]
    },
    {
      "cell_type": "markdown",
      "source": [
        "# **Practice Questions**\n",
        "## **Even or Odd Number**"
      ],
      "metadata": {
        "id": "lX45Kvvp22_h"
      }
    },
    {
      "cell_type": "code",
      "execution_count": null,
      "metadata": {
        "colab": {
          "base_uri": "https://localhost:8080/"
        },
        "id": "_YzGiRnDyvR1",
        "outputId": "fd27fe3f-60e8-4fa4-d282-cc6f3264dfe6"
      },
      "outputs": [
        {
          "output_type": "stream",
          "name": "stdout",
          "text": [
            "Enter a Number : 34\n",
            "Even Number\n"
          ]
        }
      ],
      "source": [
        "num = int(input(\"Enter a Number : \"))\n",
        "if num % 2 == 0:\n",
        "  print(\"Even Number\")\n",
        "else:\n",
        "  print(\"Odd Number\")\n"
      ]
    },
    {
      "cell_type": "markdown",
      "source": [
        "# **Largest Number**"
      ],
      "metadata": {
        "id": "FDwO4J2x20Ez"
      }
    },
    {
      "cell_type": "code",
      "source": [
        "n1 = int(input(\"Enter the First Number : \"))\n",
        "n2 = int(input(\"Enter Second Number : \"))\n",
        "n3 = int(input(\"Enter Third Number : \"))\n",
        "if(n1>n2 and n1>n3):\n",
        "  print(n1,\"is the largest number\")\n",
        "elif(n2>n1):\n",
        "  print(n2,\"is the largest number\")\n",
        "else:\n",
        "  print(n3,\"is the largest number\")"
      ],
      "metadata": {
        "colab": {
          "base_uri": "https://localhost:8080/"
        },
        "id": "4_fNktS6zNJA",
        "outputId": "9587f2a2-956e-4d7f-863f-4ace25a7bd43"
      },
      "execution_count": null,
      "outputs": [
        {
          "output_type": "stream",
          "name": "stdout",
          "text": [
            "Enter First Number : 12\n",
            "Enter Second Number : 24\n",
            "Enter Third Number : 1\n",
            "24 is the largest number\n"
          ]
        }
      ]
    },
    {
      "cell_type": "markdown",
      "source": [
        "# **Smallest Number**"
      ],
      "metadata": {
        "id": "yx8w-fYe2wlG"
      }
    },
    {
      "cell_type": "code",
      "source": [
        "a = int(input(\"Enter the First Number : \"))\n",
        "b = int(input(\"Enter Second Number : \"))\n",
        "c = int(input(\"Enter Third Number : \"))\n",
        "if (a<b and a<c):\n",
        "  print(a,\"is the smallest number\")\n",
        "elif (b<a):\n",
        "  print(b,\"is the smallest number\")\n",
        "else:\n",
        "  print(c,\"is the smallest number\")"
      ],
      "metadata": {
        "colab": {
          "base_uri": "https://localhost:8080/"
        },
        "id": "5puylje60CR9",
        "outputId": "7a43a433-b810-4e45-bb69-4bf42dcb6e74"
      },
      "execution_count": null,
      "outputs": [
        {
          "output_type": "stream",
          "name": "stdout",
          "text": [
            "Enter the First Number : 23\n",
            "Enter Second Number : 34\n",
            "Enter Third Number : 1\n",
            "1 is the smallest number\n"
          ]
        }
      ]
    },
    {
      "cell_type": "markdown",
      "source": [
        "# **Grading System**"
      ],
      "metadata": {
        "id": "uCTdORfU2qTy"
      }
    },
    {
      "cell_type": "code",
      "source": [
        "math = int(input(\"Enter Math subject marks: \"))\n",
        "phy = int(input(\"Enter Physics subject marks: \"))\n",
        "chem = int(input(\"Enter Chemistry subject marks: \"))\n",
        "eng = int(input(\"Enter English subject marks: \"))\n",
        "\n",
        "total= math + eng + phy + chem\n",
        "avg = total / 4\n",
        "if (avg>=90):\n",
        "  print(\"Grade : A\")\n",
        "elif (avg>=80):\n",
        "  print(\"Grade : B\")\n",
        "elif (avg>=70):\n",
        "  print(\"Grade : C\")\n",
        "elif (avg>=60):\n",
        "  print(\"Grade : D\")\n",
        "else:\n",
        "  print(\"Grade : FAIL\")"
      ],
      "metadata": {
        "colab": {
          "base_uri": "https://localhost:8080/"
        },
        "id": "mShCMnZW0flZ",
        "outputId": "7fe8f1a2-1b71-43fe-91b0-55a8e2159226"
      },
      "execution_count": null,
      "outputs": [
        {
          "output_type": "stream",
          "name": "stdout",
          "text": [
            "Enter Math subject marks: 89\n",
            "Enter Physics subject marks: 99\n",
            "Enter Chemistry subject marks: 87\n",
            "Enter English subject marks: 97\n",
            "Grade : A\n"
          ]
        }
      ]
    },
    {
      "cell_type": "markdown",
      "source": [
        "# **Vowels**"
      ],
      "metadata": {
        "id": "AuxD5ysE2n7M"
      }
    },
    {
      "cell_type": "code",
      "source": [
        "vow={'a','e','i','o','u','A','E','I','O','U'}\n",
        "ch= input(\"Enter a Character :\")\n",
        "if (ch in vow):\n",
        "  print(ch,\"is Vowel\")\n",
        "else:\n",
        "  print(ch,\"is Consonant\")"
      ],
      "metadata": {
        "colab": {
          "base_uri": "https://localhost:8080/"
        },
        "id": "GvUScpNL1S15",
        "outputId": "8e854d7a-85ca-4fca-b8ab-2f1725049312"
      },
      "execution_count": null,
      "outputs": [
        {
          "output_type": "stream",
          "name": "stdout",
          "text": [
            "Enter a Character :d\n",
            "d is Consonant\n"
          ]
        }
      ]
    },
    {
      "cell_type": "markdown",
      "source": [
        "# **Swapping of two numbers**"
      ],
      "metadata": {
        "id": "IocpGYWH2jCa"
      }
    },
    {
      "cell_type": "code",
      "source": [
        "a1=int(input(\"Enter first number : \"))\n",
        "a2= int(input(\"Enter Second number :\"))\n",
        "print(\"Numbers before swapping :\",a1,a2)\n",
        "a3=a1\n",
        "a1=a2\n",
        "a2=a3\n",
        "print(\"Numbers after swapping is :\",a1,a2)"
      ],
      "metadata": {
        "colab": {
          "base_uri": "https://localhost:8080/"
        },
        "id": "x5anMI0t1w8P",
        "outputId": "5117a140-c392-4381-e833-1fdcb1db73e2"
      },
      "execution_count": null,
      "outputs": [
        {
          "output_type": "stream",
          "name": "stdout",
          "text": [
            "Enter first number : 12\n",
            "Enter Second number :24\n",
            "Numbers before swapping : 12 24\n",
            "Numbers after swapping is : 24 12\n"
          ]
        }
      ]
    }
  ]
}