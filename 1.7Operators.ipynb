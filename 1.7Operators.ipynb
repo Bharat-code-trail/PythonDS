{
  "nbformat": 4,
  "nbformat_minor": 0,
  "metadata": {
    "colab": {
      "provenance": []
    },
    "kernelspec": {
      "name": "python3",
      "display_name": "Python 3"
    },
    "language_info": {
      "name": "python"
    }
  },
  "cells": [
    {
      "cell_type": "markdown",
      "source": [
        "# Arithmetic Operators:\n",
        "\n",
        "Perform mathematical operations.\n",
        "\n",
        "\n",
        "*   + (Addition) - Adds two values.\n",
        "*   - (Subtraction) - Subtracts one value from another.\n",
        "*  \t* (Multiplication) - Multiplies two values.\n",
        "*  \t/ (Division) - Divides one value by another.\n",
        "*   % (Modulus) - Returns the remainder of division.\n",
        "*   ** (Exponentiation) - Raises a number to a power.\n",
        "\n",
        "\n",
        "\n",
        "\n",
        "\n",
        "\n",
        "\n",
        "\n"
      ],
      "metadata": {
        "id": "-fjcs2L55xXn"
      }
    },
    {
      "cell_type": "code",
      "source": [
        "a=10\n",
        "b=20\n",
        "print(a+b)\n",
        "print(b-a)\n",
        "print(a*b)\n",
        "print(a/b)\n",
        "print(b%a)\n",
        "print(a ** b)"
      ],
      "metadata": {
        "colab": {
          "base_uri": "https://localhost:8080/"
        },
        "id": "VcgtRwdN6w24",
        "outputId": "a8856424-eeb3-4e90-e941-ba00f0b4c6a7"
      },
      "execution_count": 13,
      "outputs": [
        {
          "output_type": "stream",
          "name": "stdout",
          "text": [
            "30\n",
            "10\n",
            "200\n",
            "0.5\n",
            "0\n",
            "100000000000000000000\n"
          ]
        }
      ]
    },
    {
      "cell_type": "markdown",
      "source": [
        "### **Comparision Operator:**\n",
        "\n",
        "Compare values and return True or False.\n",
        "\t•\t== (Equal)  Checks if values are equal.\n",
        "\n",
        "\t•\t!= (Not Equal) - Checks if values are different.\n",
        "\t•\t> (Greater Than) - Checks if left value is greater.\n",
        "\t•\t< (Less Than) - Checks if left value is smaller.\n",
        "\t•\t>= (Greater or Equal) - Checks if left value is greater or equal.\n",
        "\t•\t<= (Less or Equal) - Checks if left value is smaller or equal."
      ],
      "metadata": {
        "id": "gsXNfFWk7B_g"
      }
    },
    {
      "cell_type": "code",
      "source": [
        "a=10\n",
        "b=10\n",
        "print(a==b)\n",
        "print(a!=b)\n",
        "print(a>b)\n",
        "print(a<b)\n",
        "print(a>=b)\n",
        "print(a<=b)"
      ],
      "metadata": {
        "colab": {
          "base_uri": "https://localhost:8080/"
        },
        "id": "6Q6ynTiM7Tt4",
        "outputId": "c2d7ef19-1a4b-4872-96ef-d8d8c7ba639b"
      },
      "execution_count": 14,
      "outputs": [
        {
          "output_type": "stream",
          "name": "stdout",
          "text": [
            "True\n",
            "False\n",
            "False\n",
            "False\n",
            "True\n",
            "True\n"
          ]
        }
      ]
    },
    {
      "cell_type": "markdown",
      "source": [
        "## **Assignment Operator:**\n",
        "\n",
        "\t•\t= (Assign) - Assigns a value.\n",
        "\t•\t+= (Add and Assign) - Adds and assigns.\n",
        "\t•\t-= (Subtract and Assign) - Subtracts and assigns.\n",
        "\t•\t*= (Multiply and Assign) - Multiplies and assigns."
      ],
      "metadata": {
        "id": "-s3spHm17i-M"
      }
    },
    {
      "cell_type": "code",
      "source": [
        "a=10\n",
        "b=1\n",
        "a+=b\n",
        "print(a)\n",
        "a-=b\n",
        "print(a)\n",
        "a*=b\n",
        "print(a)"
      ],
      "metadata": {
        "colab": {
          "base_uri": "https://localhost:8080/"
        },
        "id": "hQWQVjRf7sGS",
        "outputId": "5a1d0f79-47ca-4d86-caaa-013d26063ceb"
      },
      "execution_count": 15,
      "outputs": [
        {
          "output_type": "stream",
          "name": "stdout",
          "text": [
            "11\n",
            "10\n",
            "10\n"
          ]
        }
      ]
    },
    {
      "cell_type": "markdown",
      "source": [
        "### **Logical Operator:**\n",
        "\n",
        "\t•\tand - Returns True if both conditions are True.\n",
        "\t•\tor - Returns True if at least one condition is True.\n",
        "\t•\tnot - Reverses the boolean value."
      ],
      "metadata": {
        "id": "5gldjeGe8Gml"
      }
    },
    {
      "cell_type": "code",
      "source": [
        "a = True\n",
        "b = False\n",
        "print(a and b)\n",
        "print(a and True)"
      ],
      "metadata": {
        "colab": {
          "base_uri": "https://localhost:8080/"
        },
        "id": "8EHgG7YJ8yKK",
        "outputId": "cf8ba3dc-cf10-4947-dd71-f044cef3c62c"
      },
      "execution_count": 16,
      "outputs": [
        {
          "output_type": "stream",
          "name": "stdout",
          "text": [
            "False\n",
            "True\n"
          ]
        }
      ]
    },
    {
      "cell_type": "code",
      "source": [
        "a = True\n",
        "print(not a)"
      ],
      "metadata": {
        "colab": {
          "base_uri": "https://localhost:8080/"
        },
        "id": "gB22B9QX80j_",
        "outputId": "a4727a23-feca-4ea5-9d4e-1f42f86abde2"
      },
      "execution_count": 17,
      "outputs": [
        {
          "output_type": "stream",
          "name": "stdout",
          "text": [
            "False\n"
          ]
        }
      ]
    },
    {
      "cell_type": "code",
      "source": [
        "a = True\n",
        "b = False\n",
        "print(a or b)\n",
        "print(b or b)"
      ],
      "metadata": {
        "colab": {
          "base_uri": "https://localhost:8080/"
        },
        "id": "1oVav9Pt82vu",
        "outputId": "ce879dcf-5c7e-469a-99e7-addf9ccd211d"
      },
      "execution_count": 18,
      "outputs": [
        {
          "output_type": "stream",
          "name": "stdout",
          "text": [
            "True\n",
            "False\n"
          ]
        }
      ]
    },
    {
      "cell_type": "markdown",
      "source": [
        "### **Bit-wise Operators:**\n",
        "\n",
        "Perform operations on binary values.\n"
      ],
      "metadata": {
        "id": "eItCnvd39I6I"
      }
    },
    {
      "cell_type": "markdown",
      "source": [
        " •\t& (AND) - Sets bit to 1 if both bits are 1."
      ],
      "metadata": {
        "id": "NiK2HLlk_iLI"
      }
    },
    {
      "cell_type": "code",
      "source": [
        "a = 5\n",
        "b = 3\n",
        "print(a & b)"
      ],
      "metadata": {
        "colab": {
          "base_uri": "https://localhost:8080/"
        },
        "id": "FPd2oDm_-Lm2",
        "outputId": "3bb2de75-2deb-4d7f-daa8-d0d899a724b8"
      },
      "execution_count": 22,
      "outputs": [
        {
          "output_type": "stream",
          "name": "stdout",
          "text": [
            "1\n"
          ]
        }
      ]
    },
    {
      "cell_type": "markdown",
      "source": [
        "| (OR) - Sets bit to 1 if at least one bit is 1."
      ],
      "metadata": {
        "id": "qXJbbNKA_cAl"
      }
    },
    {
      "cell_type": "code",
      "source": [
        "a = 5\n",
        "b = 3\n",
        "print(a | b)"
      ],
      "metadata": {
        "colab": {
          "base_uri": "https://localhost:8080/"
        },
        "id": "z9RjLYEL-RAJ",
        "outputId": "0a704d53-201c-4c6d-ca86-0780c47266f4"
      },
      "execution_count": 23,
      "outputs": [
        {
          "output_type": "stream",
          "name": "stdout",
          "text": [
            "7\n"
          ]
        }
      ]
    },
    {
      "cell_type": "markdown",
      "source": [
        "^ (XOR) - Sets bit to 1 if bits are different."
      ],
      "metadata": {
        "id": "8i3i9XZK_oLv"
      }
    },
    {
      "cell_type": "code",
      "source": [
        "a = 5\n",
        "b = 3\n",
        "print(a ^ b)"
      ],
      "metadata": {
        "colab": {
          "base_uri": "https://localhost:8080/"
        },
        "id": "hGA7sEI7-WF8",
        "outputId": "7f4f7275-fe55-4663-a850-91dde5fda98f"
      },
      "execution_count": 24,
      "outputs": [
        {
          "output_type": "stream",
          "name": "stdout",
          "text": [
            "6\n"
          ]
        }
      ]
    },
    {
      "cell_type": "markdown",
      "source": [
        "~ (NOT) - Flips all bits."
      ],
      "metadata": {
        "id": "htutv_6t_1Mj"
      }
    },
    {
      "cell_type": "code",
      "source": [
        "a = 5\n",
        "print(~a)"
      ],
      "metadata": {
        "colab": {
          "base_uri": "https://localhost:8080/"
        },
        "id": "LCDrpN9f-bWM",
        "outputId": "e49aef58-0225-4485-f737-eb6838e3b269"
      },
      "execution_count": 25,
      "outputs": [
        {
          "output_type": "stream",
          "name": "stdout",
          "text": [
            "-6\n"
          ]
        }
      ]
    },
    {
      "cell_type": "markdown",
      "source": [
        "•\t<< (Left Shift) - Shifts bits left, multiplying by 2.\n"
      ],
      "metadata": {
        "id": "yXFJzoMV_sTz"
      }
    },
    {
      "cell_type": "code",
      "source": [
        "a = 5\n",
        "print(a << 1)"
      ],
      "metadata": {
        "colab": {
          "base_uri": "https://localhost:8080/"
        },
        "id": "dCbVB6Zt-ep1",
        "outputId": "fbb94401-a9e6-4511-8bf2-b895ec33e36d"
      },
      "execution_count": 26,
      "outputs": [
        {
          "output_type": "stream",
          "name": "stdout",
          "text": [
            "10\n"
          ]
        }
      ]
    },
    {
      "cell_type": "markdown",
      "source": [
        " - >> (Right Shift) - Shifts bits right, dividing by 2."
      ],
      "metadata": {
        "id": "TOz9ny2c_7i0"
      }
    },
    {
      "cell_type": "code",
      "source": [
        "a = 5\n",
        "print(a >> 1)"
      ],
      "metadata": {
        "colab": {
          "base_uri": "https://localhost:8080/"
        },
        "id": "v6tHjdaD-i34",
        "outputId": "2a772cac-c610-42dd-b9bf-f4e8b0969e9b"
      },
      "execution_count": 27,
      "outputs": [
        {
          "output_type": "stream",
          "name": "stdout",
          "text": [
            "2\n"
          ]
        }
      ]
    },
    {
      "cell_type": "markdown",
      "source": [
        "## **Practice Questions:**"
      ],
      "metadata": {
        "id": "paIjhOx87atE"
      }
    },
    {
      "cell_type": "code",
      "execution_count": 1,
      "metadata": {
        "colab": {
          "base_uri": "https://localhost:8080/"
        },
        "id": "3ZuOH8x93JC5",
        "outputId": "5b6db774-c912-4ce3-e75b-497140d2c90d"
      },
      "outputs": [
        {
          "output_type": "stream",
          "name": "stdout",
          "text": [
            "124\n"
          ]
        }
      ],
      "source": [
        "print(999 >> 3)"
      ]
    },
    {
      "cell_type": "code",
      "source": [
        "print(7 >> 3)"
      ],
      "metadata": {
        "colab": {
          "base_uri": "https://localhost:8080/"
        },
        "id": "DLOvgFWB3RKg",
        "outputId": "e76357f8-fdc6-4609-a3c1-c4c360ed1a92"
      },
      "execution_count": 2,
      "outputs": [
        {
          "output_type": "stream",
          "name": "stdout",
          "text": [
            "0\n"
          ]
        }
      ]
    },
    {
      "cell_type": "code",
      "source": [
        "print(7 ^ 3)"
      ],
      "metadata": {
        "colab": {
          "base_uri": "https://localhost:8080/"
        },
        "id": "o08_JdHX3TOa",
        "outputId": "3b5c68ed-2f8b-4446-fe56-af8a4aab2860"
      },
      "execution_count": 3,
      "outputs": [
        {
          "output_type": "stream",
          "name": "stdout",
          "text": [
            "4\n"
          ]
        }
      ]
    },
    {
      "cell_type": "code",
      "source": [
        "print(73 ^32)"
      ],
      "metadata": {
        "colab": {
          "base_uri": "https://localhost:8080/"
        },
        "id": "QMdvaXDh3WuB",
        "outputId": "83bf9183-8032-4893-b0d2-d3ed23b185b4"
      },
      "execution_count": 5,
      "outputs": [
        {
          "output_type": "stream",
          "name": "stdout",
          "text": [
            "105\n"
          ]
        }
      ]
    },
    {
      "cell_type": "code",
      "source": [
        "print(77 & 33)"
      ],
      "metadata": {
        "colab": {
          "base_uri": "https://localhost:8080/"
        },
        "id": "vubs403V3bsj",
        "outputId": "0608ec9f-58db-46e5-af3f-c6046f6f0c56"
      },
      "execution_count": 6,
      "outputs": [
        {
          "output_type": "stream",
          "name": "stdout",
          "text": [
            "1\n"
          ]
        }
      ]
    },
    {
      "cell_type": "code",
      "source": [
        "print(87 & 23)"
      ],
      "metadata": {
        "colab": {
          "base_uri": "https://localhost:8080/"
        },
        "id": "ZCMPi7D13f17",
        "outputId": "3982ec57-57b8-4107-88d5-4f3f568dc21c"
      },
      "execution_count": 7,
      "outputs": [
        {
          "output_type": "stream",
          "name": "stdout",
          "text": [
            "23\n"
          ]
        }
      ]
    },
    {
      "cell_type": "code",
      "source": [
        "print(37 | 87)"
      ],
      "metadata": {
        "colab": {
          "base_uri": "https://localhost:8080/"
        },
        "id": "EOPz_k2e3hvj",
        "outputId": "c4c85800-ec19-41a8-d365-2c3017feb6ce"
      },
      "execution_count": 8,
      "outputs": [
        {
          "output_type": "stream",
          "name": "stdout",
          "text": [
            "119\n"
          ]
        }
      ]
    },
    {
      "cell_type": "code",
      "source": [
        "print(73 | 99)"
      ],
      "metadata": {
        "colab": {
          "base_uri": "https://localhost:8080/"
        },
        "id": "GlCM1RJl3j7a",
        "outputId": "3a389a24-7d05-4680-ae0e-008962161765"
      },
      "execution_count": 9,
      "outputs": [
        {
          "output_type": "stream",
          "name": "stdout",
          "text": [
            "107\n"
          ]
        }
      ]
    },
    {
      "cell_type": "code",
      "source": [
        "print(37 << 3)"
      ],
      "metadata": {
        "colab": {
          "base_uri": "https://localhost:8080/"
        },
        "id": "y6GDr59f3mlM",
        "outputId": "b9bda8ea-a3a2-4667-8006-1cce7f866bc2"
      },
      "execution_count": 10,
      "outputs": [
        {
          "output_type": "stream",
          "name": "stdout",
          "text": [
            "296\n"
          ]
        }
      ]
    },
    {
      "cell_type": "code",
      "source": [
        "print(77 << 2)"
      ],
      "metadata": {
        "colab": {
          "base_uri": "https://localhost:8080/"
        },
        "id": "DvGQ-rnH3opf",
        "outputId": "17cb6531-2cd0-4105-af92-669fb2f88558"
      },
      "execution_count": 11,
      "outputs": [
        {
          "output_type": "stream",
          "name": "stdout",
          "text": [
            "308\n"
          ]
        }
      ]
    },
    {
      "cell_type": "code",
      "source": [
        "print(347 >> 2)"
      ],
      "metadata": {
        "colab": {
          "base_uri": "https://localhost:8080/"
        },
        "id": "thP8d_sl3qKt",
        "outputId": "6577c9ae-ef10-40fe-b0fd-2bc9f7199eff"
      },
      "execution_count": 12,
      "outputs": [
        {
          "output_type": "stream",
          "name": "stdout",
          "text": [
            "86\n"
          ]
        }
      ]
    },
    {
      "cell_type": "code",
      "source": [],
      "metadata": {
        "id": "F_PgkMsO3sZc"
      },
      "execution_count": null,
      "outputs": []
    }
  ]
}