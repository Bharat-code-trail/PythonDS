{
 "cells": [
  {
   "cell_type": "markdown",
   "id": "c063526d-f4de-4366-a86c-890c744b5c55",
   "metadata": {},
   "source": [
    "What is Data type?\n",
    "A data type in Python defines the type of value a variable can hold, such as numbers, text, or complex data structures. Python has built-in data types like int, float, complex, bool, str, list, tuple, set, and dict.\n",
    "\n",
    "Integer (int) –\n",
    "x1 = 10  \n",
    "x2 = -5  \n",
    "x3 = 100000  \n",
    "x4 = 0  \n",
    "x5 = 42  \n",
    "x6 = -999  \n",
    "x7 = 123456789  \n",
    "x8 = 75  \n",
    "x9 = -3000  \n",
    "x10 = 2024  \n",
    "\n",
    "Float -\n",
    "y1 = 10.5  \n",
    "y2 = -3.14  \n",
    "y3 = 0.0  \n",
    "y4 = 2.718  \n",
    "y5 = -99.99  \n",
    "y6 = 1.0  \n",
    "y7 = 12345.6789  \n",
    "\n",
    "Complex -\n",
    "z1 = 2 + 3j  \n",
    "z2 = -1 - 4j  \n",
    "z3 = 0 + 0j  \n",
    "z4 = 5j  \n",
    "z5 = 7 - 2j  \n",
    "z6 = -3.5 + 6.1j  \n",
    "z7 = 10 + 0j  \n",
    "\n",
    "Boolean -\n",
    "b1 = True  \n",
    "b2 = False  \n",
    "b3 = 5 > 3  # True  \n",
    "b4 = 10 < 2  # False  \n",
    "b5 = bool(1)  # True  \n",
    "b6 = bool(0)  # False  \n",
    "b7 = bool(\"Python\")  # True  \n",
    "\n",
    "Type Conversion :\n",
    "\n",
    "Type conversion is changing one data type to another using built-in functions like int(), float(), str(), bool().\n",
    "a = 10  \n",
    "b = float(a)  # Convert int to float  \n",
    "c = str(a)  # Convert int to string  \n",
    "d = int(3.14)  # Convert float to int  \n",
    "e = bool(0)  # Convert to boolean  \n",
    "\n",
    "type() function is used to check the data type of a variable.\n",
    "\n",
    "print(type(a))  # <class 'int'>  \n",
    "print(type(b))  # <class 'float'>  \n",
    "print(type(c))  # <class 'str'>  \n",
    "print(type(d))  # <class 'int'>  \n",
    "print(type(e))  # <class 'bool'>  "
   ]
  },
  {
   "cell_type": "code",
   "execution_count": null,
   "id": "54474018-3c58-4886-8298-dbffa5b63027",
   "metadata": {},
   "outputs": [],
   "source": []
  }
 ],
 "metadata": {
  "kernelspec": {
   "display_name": "Python [conda env:base] *",
   "language": "python",
   "name": "conda-base-py"
  },
  "language_info": {
   "codemirror_mode": {
    "name": "ipython",
    "version": 3
   },
   "file_extension": ".py",
   "mimetype": "text/x-python",
   "name": "python",
   "nbconvert_exporter": "python",
   "pygments_lexer": "ipython3",
   "version": "3.12.7"
  }
 },
 "nbformat": 4,
 "nbformat_minor": 5
}
