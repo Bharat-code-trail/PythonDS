{
  "nbformat": 4,
  "nbformat_minor": 0,
  "metadata": {
    "colab": {
      "provenance": []
    },
    "kernelspec": {
      "name": "python3",
      "display_name": "Python 3"
    },
    "language_info": {
      "name": "python"
    }
  },
  "cells": [
    {
      "cell_type": "markdown",
      "source": [
        "# List\n",
        "\n",
        "A list in Python is an ordered, mutable (modifiable) collection that can store multiple items of different data types, such as integers, strings, floats, and even other lists. Lists are defined using square brackets [] and allow indexing, slicing, and various built-in methods.\n"
      ],
      "metadata": {
        "id": "BEoQvmeI45yj"
      }
    },
    {
      "cell_type": "code",
      "execution_count": null,
      "metadata": {
        "id": "vDzXV8hE43TJ"
      },
      "outputs": [],
      "source": [
        "# Example 1: List of integers\n",
        "list1 = [10, 20, 30, 40, 50]"
      ]
    },
    {
      "cell_type": "code",
      "source": [
        "# Example 2: List with mixed data types\n",
        "list2 = [\"Python\", 3.14, True, 42]\n"
      ],
      "metadata": {
        "id": "uFwYh_Jg5qdE"
      },
      "execution_count": null,
      "outputs": []
    },
    {
      "cell_type": "code",
      "source": [
        "\n",
        "# Example 3: Nested list\n",
        "list3 = [[1, 2, 3], [\"a\", \"b\", \"c\"], [True, False]]\n"
      ],
      "metadata": {
        "id": "K4JFs-n_5s_0"
      },
      "execution_count": null,
      "outputs": []
    },
    {
      "cell_type": "code",
      "source": [
        "\n",
        "# Example 4: List of strings\n",
        "list4 = [\"apple\", \"banana\", \"cherry\", \"date\", \"elderberry\"]"
      ],
      "metadata": {
        "id": "Cv9wlCbw5wGE"
      },
      "execution_count": null,
      "outputs": []
    },
    {
      "cell_type": "code",
      "source": [
        "# Example 5: Empty list\n",
        "list5 = []"
      ],
      "metadata": {
        "id": "Hmkz5Cb05x0v"
      },
      "execution_count": null,
      "outputs": []
    },
    {
      "cell_type": "markdown",
      "source": [
        "# Indexing:\n",
        "\n",
        "Indexing is used to access elements in a list using their position. Python follows zero-based indexing, meaning the first element is at index 0. Negative indexing starts from the end (-1 for the last element)."
      ],
      "metadata": {
        "id": "aQH3AfNg52yR"
      }
    },
    {
      "cell_type": "code",
      "source": [
        "fruits = [\"apple\", \"banana\", \"cherry\", \"date\", \"elderberry\"]"
      ],
      "metadata": {
        "id": "qWiiwv2i51LT"
      },
      "execution_count": null,
      "outputs": []
    },
    {
      "cell_type": "code",
      "source": [
        "print(fruits[0])"
      ],
      "metadata": {
        "colab": {
          "base_uri": "https://localhost:8080/"
        },
        "id": "BgyyIADv6Ghz",
        "outputId": "34b25691-9529-4fc5-bac0-931726c259f1"
      },
      "execution_count": null,
      "outputs": [
        {
          "output_type": "stream",
          "name": "stdout",
          "text": [
            "apple\n"
          ]
        }
      ]
    },
    {
      "cell_type": "code",
      "source": [
        "print(fruits[2])"
      ],
      "metadata": {
        "colab": {
          "base_uri": "https://localhost:8080/"
        },
        "id": "uRGFQmO96GZ_",
        "outputId": "96ca6f66-519d-4826-82b7-b13f9f5170c1"
      },
      "execution_count": null,
      "outputs": [
        {
          "output_type": "stream",
          "name": "stdout",
          "text": [
            "cherry\n"
          ]
        }
      ]
    },
    {
      "cell_type": "code",
      "source": [
        "print(fruits[-1])"
      ],
      "metadata": {
        "colab": {
          "base_uri": "https://localhost:8080/"
        },
        "id": "jznrm-lO6GQY",
        "outputId": "b5ea030a-e836-4ead-820a-5a9bc892f87e"
      },
      "execution_count": null,
      "outputs": [
        {
          "output_type": "stream",
          "name": "stdout",
          "text": [
            "elderberry\n"
          ]
        }
      ]
    },
    {
      "cell_type": "code",
      "source": [
        "print(fruits[-3])"
      ],
      "metadata": {
        "colab": {
          "base_uri": "https://localhost:8080/"
        },
        "id": "JmfEwgP86GFL",
        "outputId": "17eb804f-6c29-42b3-8f8c-e615a6e59c67"
      },
      "execution_count": null,
      "outputs": [
        {
          "output_type": "stream",
          "name": "stdout",
          "text": [
            "cherry\n"
          ]
        }
      ]
    },
    {
      "cell_type": "code",
      "source": [
        "print(fruits[4])"
      ],
      "metadata": {
        "colab": {
          "base_uri": "https://localhost:8080/"
        },
        "id": "VjAuYNmc6Fr6",
        "outputId": "4b838e91-03bb-429a-aeca-c159c3da9a0b"
      },
      "execution_count": null,
      "outputs": [
        {
          "output_type": "stream",
          "name": "stdout",
          "text": [
            "elderberry\n"
          ]
        }
      ]
    },
    {
      "cell_type": "markdown",
      "source": [
        "# Slicing :\n",
        "\n",
        "Slicing is used to extract a sublist from a list using the syntax list[start:stop]. The start index is inclusive, while the stop index is exclusive."
      ],
      "metadata": {
        "id": "vSYTWxz76SMN"
      }
    },
    {
      "cell_type": "code",
      "source": [
        "numbers = [10, 20, 30, 40, 50, 60, 70]"
      ],
      "metadata": {
        "id": "xNb5yowQ6PqN"
      },
      "execution_count": null,
      "outputs": []
    },
    {
      "cell_type": "code",
      "source": [
        "print(numbers[::2])"
      ],
      "metadata": {
        "colab": {
          "base_uri": "https://localhost:8080/"
        },
        "id": "iOmZ17Ja6eBQ",
        "outputId": "0e3bd857-6caa-45f4-91f1-a22194c682a2"
      },
      "execution_count": null,
      "outputs": [
        {
          "output_type": "stream",
          "name": "stdout",
          "text": [
            "[10, 30, 50, 70]\n"
          ]
        }
      ]
    },
    {
      "cell_type": "code",
      "source": [
        "print(numbers[1:4])"
      ],
      "metadata": {
        "colab": {
          "base_uri": "https://localhost:8080/"
        },
        "id": "dnmDfvm46j7D",
        "outputId": "be641bd4-5536-4fa1-837c-4a71d00dca93"
      },
      "execution_count": null,
      "outputs": [
        {
          "output_type": "stream",
          "name": "stdout",
          "text": [
            "[20, 30, 40]\n"
          ]
        }
      ]
    },
    {
      "cell_type": "code",
      "source": [
        "print(numbers[:3])"
      ],
      "metadata": {
        "colab": {
          "base_uri": "https://localhost:8080/"
        },
        "id": "Lfd6qNnJ6jzg",
        "outputId": "98355269-22d2-43f4-8a19-b5b9bcb0c368"
      },
      "execution_count": null,
      "outputs": [
        {
          "output_type": "stream",
          "name": "stdout",
          "text": [
            "[10, 20, 30]\n"
          ]
        }
      ]
    },
    {
      "cell_type": "code",
      "source": [
        "print(numbers[3:])"
      ],
      "metadata": {
        "colab": {
          "base_uri": "https://localhost:8080/"
        },
        "id": "q5YD6J-J6jrc",
        "outputId": "8f7d2582-9990-4620-fb59-25c62376a42c"
      },
      "execution_count": null,
      "outputs": [
        {
          "output_type": "stream",
          "name": "stdout",
          "text": [
            "[40, 50, 60, 70]\n"
          ]
        }
      ]
    },
    {
      "cell_type": "code",
      "source": [
        "print(numbers[-4:-1])"
      ],
      "metadata": {
        "colab": {
          "base_uri": "https://localhost:8080/"
        },
        "id": "pqg1kcbe6jks",
        "outputId": "523596ce-1afb-4d04-c945-c0deb63dd3c5"
      },
      "execution_count": null,
      "outputs": [
        {
          "output_type": "stream",
          "name": "stdout",
          "text": [
            "[40, 50, 60]\n"
          ]
        }
      ]
    },
    {
      "cell_type": "code",
      "source": [],
      "metadata": {
        "id": "A7xCoqfi6t7J"
      },
      "execution_count": null,
      "outputs": []
    },
    {
      "cell_type": "markdown",
      "source": [
        "#  Python List Methods"
      ],
      "metadata": {
        "id": "a5A2SKaI-5Uq"
      }
    },
    {
      "cell_type": "markdown",
      "source": [
        "# **Append():**\n",
        "\n",
        "append(item): Adds an item to the end of the list."
      ],
      "metadata": {
        "id": "h-IwprijHf0Z"
      }
    },
    {
      "cell_type": "code",
      "source": [
        "a=[1,2,3,4]\n",
        "a.append(4)\n",
        "a"
      ],
      "metadata": {
        "colab": {
          "base_uri": "https://localhost:8080/"
        },
        "id": "7mTDI1EiHm5P",
        "outputId": "486ccc16-71a9-410b-f024-2082e800ae08"
      },
      "execution_count": null,
      "outputs": [
        {
          "output_type": "execute_result",
          "data": {
            "text/plain": [
              "[1, 2, 3, 4, 4]"
            ]
          },
          "metadata": {},
          "execution_count": 10
        }
      ]
    },
    {
      "cell_type": "markdown",
      "source": [
        "# **extend():**\n",
        "\n",
        "extend(iterable): Adds elements from an iterable to the list."
      ],
      "metadata": {
        "id": "abE0elffHOxu"
      }
    },
    {
      "cell_type": "code",
      "source": [
        "b=[5,6,7,8,9]\n",
        "a.extend(b)\n",
        "a\n"
      ],
      "metadata": {
        "colab": {
          "base_uri": "https://localhost:8080/"
        },
        "id": "i7fK21wuHb4E",
        "outputId": "965c3152-4616-4b64-b8fd-c3c36da628f7"
      },
      "execution_count": null,
      "outputs": [
        {
          "output_type": "execute_result",
          "data": {
            "text/plain": [
              "[1, 2, 3, 4, 4, 5, 6, 7, 8, 9]"
            ]
          },
          "metadata": {},
          "execution_count": 11
        }
      ]
    },
    {
      "cell_type": "markdown",
      "source": [
        "# **Pop():**\n",
        "\n",
        "pop(index=-1): Removes and returns an item at the given index."
      ],
      "metadata": {
        "id": "hs4MeNj0HGcb"
      }
    },
    {
      "cell_type": "code",
      "source": [
        "#pop()\n",
        "\n",
        "a.pop(4)\n",
        "a"
      ],
      "metadata": {
        "colab": {
          "base_uri": "https://localhost:8080/"
        },
        "id": "NjDFYGf0HKK4",
        "outputId": "10aa8479-21d4-423c-da81-0e80d1d9d490"
      },
      "execution_count": null,
      "outputs": [
        {
          "output_type": "execute_result",
          "data": {
            "text/plain": [
              "[1, 2, 3, 4, 5, 6, 7, 8, 9]"
            ]
          },
          "metadata": {},
          "execution_count": 12
        }
      ]
    },
    {
      "cell_type": "markdown",
      "source": [
        "# **Insert():**\n",
        "\n",
        "insert(index, item): Inserts an item at a specific index."
      ],
      "metadata": {
        "id": "TlAFKHkSG-3j"
      }
    },
    {
      "cell_type": "code",
      "source": [
        "#insert\n",
        "n=[1,2,3,4,5]\n",
        "n.insert(3,3)\n",
        "n"
      ],
      "metadata": {
        "colab": {
          "base_uri": "https://localhost:8080/"
        },
        "id": "tqOCTg4xHDdP",
        "outputId": "15fbd49f-fb0c-40d3-e5be-5d9a7783a0ca"
      },
      "execution_count": null,
      "outputs": [
        {
          "output_type": "execute_result",
          "data": {
            "text/plain": [
              "[1, 2, 3, 3, 4, 5]"
            ]
          },
          "metadata": {},
          "execution_count": 7
        }
      ]
    },
    {
      "cell_type": "markdown",
      "source": [
        "# **Len():**\n",
        "\n",
        "specifies the length of the list()."
      ],
      "metadata": {
        "id": "oJ2S1nPBG1IX"
      }
    },
    {
      "cell_type": "code",
      "source": [
        "#len()\n",
        "len(n)"
      ],
      "metadata": {
        "colab": {
          "base_uri": "https://localhost:8080/"
        },
        "id": "QBBePPUrG59Q",
        "outputId": "6be12dba-9102-421b-acc1-ee7cbf9d1478"
      },
      "execution_count": null,
      "outputs": [
        {
          "output_type": "execute_result",
          "data": {
            "text/plain": [
              "6"
            ]
          },
          "metadata": {},
          "execution_count": 13
        }
      ]
    },
    {
      "cell_type": "markdown",
      "source": [
        "# **Count():**\n",
        "\n",
        "This function specifies the frequency of particular item in the list."
      ],
      "metadata": {
        "id": "Hi27TpYiGtFQ"
      }
    },
    {
      "cell_type": "code",
      "source": [
        "#Count()\n",
        "arr=[2,3,42,2,32,3,2,1,2,3,12,3,32,1,2,3,2,1,2,3,2,1,2,3,2,1]\n",
        "arr.count(1)"
      ],
      "metadata": {
        "colab": {
          "base_uri": "https://localhost:8080/"
        },
        "id": "voBqHcosGw49",
        "outputId": "ea27e199-7c3e-46d2-c60d-5f58bbd03fa6"
      },
      "execution_count": null,
      "outputs": [
        {
          "output_type": "execute_result",
          "data": {
            "text/plain": [
              "5"
            ]
          },
          "metadata": {},
          "execution_count": 5
        }
      ]
    },
    {
      "cell_type": "markdown",
      "source": [
        "# **Sort():**\n",
        "\n",
        "This method sort the list in ascending order."
      ],
      "metadata": {
        "id": "l7uzdo_qGjM-"
      }
    },
    {
      "cell_type": "code",
      "source": [
        "#sort\n",
        "arr.sort()\n",
        "arr"
      ],
      "metadata": {
        "colab": {
          "base_uri": "https://localhost:8080/"
        },
        "id": "TD_uCtu1GmQm",
        "outputId": "ec4846ea-ae46-47d8-c9fc-fad623388e25"
      },
      "execution_count": null,
      "outputs": [
        {
          "output_type": "execute_result",
          "data": {
            "text/plain": [
              "[1,\n",
              " 1,\n",
              " 1,\n",
              " 1,\n",
              " 1,\n",
              " 2,\n",
              " 2,\n",
              " 2,\n",
              " 2,\n",
              " 2,\n",
              " 2,\n",
              " 2,\n",
              " 2,\n",
              " 2,\n",
              " 2,\n",
              " 3,\n",
              " 3,\n",
              " 3,\n",
              " 3,\n",
              " 3,\n",
              " 3,\n",
              " 3,\n",
              " 12,\n",
              " 32,\n",
              " 32,\n",
              " 42]"
            ]
          },
          "metadata": {},
          "execution_count": 14
        }
      ]
    },
    {
      "cell_type": "markdown",
      "source": [
        "# **Reverse():**\n",
        "\n",
        "This reverse the order of the list, gives the elements in reverse order."
      ],
      "metadata": {
        "id": "_dGrYh3qGWYc"
      }
    },
    {
      "cell_type": "code",
      "source": [
        "#reverse\n",
        "arr.reverse()\n",
        "arr"
      ],
      "metadata": {
        "colab": {
          "base_uri": "https://localhost:8080/"
        },
        "id": "XMPfW7HKGWsI",
        "outputId": "4694f37a-f4ba-46b7-9175-a97603c944ae"
      },
      "execution_count": null,
      "outputs": [
        {
          "output_type": "execute_result",
          "data": {
            "text/plain": [
              "[42,\n",
              " 32,\n",
              " 32,\n",
              " 12,\n",
              " 3,\n",
              " 3,\n",
              " 3,\n",
              " 3,\n",
              " 3,\n",
              " 3,\n",
              " 3,\n",
              " 2,\n",
              " 2,\n",
              " 2,\n",
              " 2,\n",
              " 2,\n",
              " 2,\n",
              " 2,\n",
              " 2,\n",
              " 2,\n",
              " 2,\n",
              " 1,\n",
              " 1,\n",
              " 1,\n",
              " 1,\n",
              " 1]"
            ]
          },
          "metadata": {},
          "execution_count": 15
        }
      ]
    },
    {
      "cell_type": "markdown",
      "source": [
        "# **Clear():**\n",
        "\n",
        "this method is used to Remove all elements from the list."
      ],
      "metadata": {
        "id": "tkUqM1z8GImG"
      }
    },
    {
      "cell_type": "code",
      "source": [
        "num = [10, 20, 30, 40, 50]\n",
        "num.clear()\n",
        "num"
      ],
      "metadata": {
        "colab": {
          "base_uri": "https://localhost:8080/"
        },
        "id": "4VsBER7vGKDY",
        "outputId": "44996e69-58da-4cff-fdde-5e58bfceb4fb"
      },
      "execution_count": null,
      "outputs": [
        {
          "output_type": "execute_result",
          "data": {
            "text/plain": [
              "[]"
            ]
          },
          "metadata": {},
          "execution_count": 16
        }
      ]
    },
    {
      "cell_type": "markdown",
      "source": [
        "# **Index**\n",
        "\n",
        "index(item, start=0, end=len(list)):\n",
        "\n",
        "Returns the index of the first occurrence of an item.\n"
      ],
      "metadata": {
        "id": "EY9lP0E4FgM2"
      }
    },
    {
      "cell_type": "code",
      "source": [
        "num = [10, 20, 30, 40, 50]\n",
        "num.index(30)\n"
      ],
      "metadata": {
        "colab": {
          "base_uri": "https://localhost:8080/"
        },
        "id": "O2BsyYNwFgzP",
        "outputId": "ba35fba6-5a90-4ac0-e58d-48b32c90bdb4"
      },
      "execution_count": null,
      "outputs": [
        {
          "output_type": "execute_result",
          "data": {
            "text/plain": [
              "2"
            ]
          },
          "metadata": {},
          "execution_count": 2
        }
      ]
    },
    {
      "cell_type": "markdown",
      "source": [
        "# **Copy()**\n",
        "\n",
        "Returns a shallow copy of the list"
      ],
      "metadata": {
        "id": "E2sViNXwFbkl"
      }
    },
    {
      "cell_type": "code",
      "source": [
        "org = [1, 2, 3]\n",
        "dup = org.copy()\n",
        "print(dup)"
      ],
      "metadata": {
        "colab": {
          "base_uri": "https://localhost:8080/"
        },
        "id": "V5fzhbr9_A8D",
        "outputId": "e79ef150-8dc1-4f2c-ce97-40c550034360"
      },
      "execution_count": null,
      "outputs": [
        {
          "output_type": "stream",
          "name": "stdout",
          "text": [
            "[1, 2, 3]\n"
          ]
        }
      ]
    },
    {
      "cell_type": "code",
      "source": [],
      "metadata": {
        "id": "9CRRMrbJFT3x"
      },
      "execution_count": null,
      "outputs": []
    }
  ]
}