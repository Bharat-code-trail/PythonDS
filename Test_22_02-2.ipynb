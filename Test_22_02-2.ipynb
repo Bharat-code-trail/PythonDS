{
  "nbformat": 4,
  "nbformat_minor": 0,
  "metadata": {
    "colab": {
      "provenance": []
    },
    "kernelspec": {
      "name": "python3",
      "display_name": "Python 3"
    },
    "language_info": {
      "name": "python"
    }
  },
  "cells": [
    {
      "cell_type": "markdown",
      "source": [
        "### 1. What is Python?\n",
        "Python is high level interpreted and object oriented programming language.\n",
        "It uses interpreter to process the code.\n",
        "It was founded by Gudio van rossom\n",
        "\n",
        "### 2. What are the key features of Python?\n",
        "* Python is easy to understand\n",
        "* It is platform independent.\n",
        "* It is object oriented programming language.\n",
        "* It is a high level programming language.\n",
        "* This uses interpreter to compute the code.\n",
        "* It is readable.\n",
        "* Large number of data types are supported.\n",
        "* Huge number of libraries are supported by python.\n",
        "### 3. How is Python different from other programming languages?\n",
        "*Compared to any other programming language python is very easy to understand and easily readable.\n",
        "*The platform independency makes more reliable language.\n",
        "*Compared to other Languages the syntax and other structures are less complex.\n",
        " ### 4. What are Python's data types?\n",
        "There are two types of python data types:\n",
        "* Basic\n",
        "* Advance\n",
        "* In basic datatypes we have:\n",
        "  * Int - Stores real integer values\n",
        "  * Float - Stores Decimal values\n",
        "  * complex - Stores real and imaginary values.\n",
        "  * Boolean - Stores True/False.\n",
        "* In Advance Data types:\n",
        "  * List\n",
        "  * String\n",
        "  * Tuple\n",
        "  * Dictionary\n",
        "  * Set\n",
        "  *\n",
        "* List:\n",
        "*The list is collection of elements/items.\n",
        "*Values are stored in[] and each element is seperated using ,\n",
        "*The elements are mutable in List.\n",
        "* a=[12,3,4,1]\n",
        "* Tuple:\n",
        "*This is collection of elements,\n",
        "*Values are stored using () and separeted using ,\n",
        "* The values are immutable.\n",
        "a = (1,2,3,4)\n",
        "* String:\n",
        "* It is collection of charecters.\n",
        "* a = 'string'\n",
        "* It is immutable.\n",
        "* Dictionary:\n",
        "* It is the collection of key-value pairs.\n",
        "* Each pair is called item.\n",
        "* Elements are accessed using key values.\n",
        "* Items are stored in [] separated using ,\n",
        "* a= [1:'Banana',1:'apple']\n",
        "*Set:\n",
        "* It is collection of unordered elements.\n",
        "* Set dosen't allow duplicate values.\n",
        "* if even duplicate values are there the output gives only unique values.\n",
        "\n",
        "### 5. What is the difference between list and tuple?\n",
        "\n",
        "\n",
        "### List\n",
        "\n",
        "* This stores elements in [ ]\n",
        "* The values are mutable that is we can change and update values.\n",
        "* There are more methods.\n",
        "### Tuple:\n",
        "* This stores elements in ().\n",
        "* The values are immutable, we can't change values.\n",
        "* There are less methods compared to others datatypes.\n",
        "\n",
        "### 6. How do you comment in Python?\n",
        "\n",
        "We use '#' to comment in python\n",
        "the ''' can also be used to comment.\n",
        "\n",
        "\n",
        "### 7. What is the difference between break, continue, and pass?\n",
        "\n",
        "* break: this breaks the loop and end the code or function or the operation.\n",
        "\n",
        "* continue: This shall skip the loop or operation for the condition.\n",
        "\n",
        "* pass: no operation is performed\n",
        "\n",
        "### 8. What is the difference between is and ==?\n",
        "\n",
        "'is' used to check the condition.\n",
        "if a is string:\n",
        "print(\"Same\")\n",
        "\n",
        "where as, == is used to check the condition like if i %2 == 0:print(even)\n",
        "\n",
        "### 9.How do you define a function in python?\n",
        "\n",
        "we use the keyword def in python to define a function.\n",
        " function is a block of code that can be used any number of times\n",
        "\n",
        " Eg:) def sum(n):\n",
        "        i=1\n",
        "        for i in range(1,n+1):\n",
        "          sum = sum+i\n",
        "        return sum\n",
        "\n"
      ],
      "metadata": {
        "id": "Ucrd3eOBHfv-"
      }
    },
    {
      "cell_type": "markdown",
      "source": [
        "# Coding Questions\n",
        "\n",
        "### 1. Python code to Reverse a String."
      ],
      "metadata": {
        "id": "JmHigMkfT1Tb"
      }
    },
    {
      "cell_type": "code",
      "execution_count": 18,
      "metadata": {
        "colab": {
          "base_uri": "https://localhost:8080/"
        },
        "id": "pAfDcUEXHDQf",
        "outputId": "eb1e2dd1-8e99-4e2a-9c70-ebd7744c6948"
      },
      "outputs": [
        {
          "output_type": "stream",
          "name": "stdout",
          "text": [
            "sad\n",
            "das\n"
          ]
        }
      ],
      "source": [
        "s=input()\n",
        "n= len(s)\n",
        "s1= s[::-1]\n",
        "print(s1)\n"
      ]
    },
    {
      "cell_type": "markdown",
      "source": [
        "### 2) Check if a Number is Even or Odd"
      ],
      "metadata": {
        "id": "qXBTjlrZSeWN"
      }
    },
    {
      "cell_type": "code",
      "source": [
        "n= int(input(\"Enter a number :\"))\n",
        "if n%2 == 0:\n",
        "  print(\"Even\")\n",
        "else:\n",
        "  print(\"Odd\")"
      ],
      "metadata": {
        "colab": {
          "base_uri": "https://localhost:8080/"
        },
        "id": "kyitdEY-SKJ9",
        "outputId": "15f3a52e-d4aa-4cb9-94e6-b5a45e27889e"
      },
      "execution_count": 6,
      "outputs": [
        {
          "output_type": "stream",
          "name": "stdout",
          "text": [
            "Enter a number :23\n",
            "Odd\n"
          ]
        }
      ]
    },
    {
      "cell_type": "markdown",
      "source": [
        "### 3.Check if a String is a Palindrome"
      ],
      "metadata": {
        "id": "wT1rdzD-T_Dr"
      }
    },
    {
      "cell_type": "code",
      "source": [
        "s=input()\n",
        "n= len(s)\n",
        "s1= s[::-1]\n",
        "if s == s1:\n",
        "  print(\"Palindrome\")\n",
        "else:\n",
        "  print(\"Not Palindrome\")"
      ],
      "metadata": {
        "colab": {
          "base_uri": "https://localhost:8080/"
        },
        "id": "_kcTGDHRUDhs",
        "outputId": "3f4685ba-4485-41c1-d140-66f4dda31ec0"
      },
      "execution_count": 19,
      "outputs": [
        {
          "output_type": "stream",
          "name": "stdout",
          "text": [
            "malayalam\n",
            "Palindrome\n"
          ]
        }
      ]
    },
    {
      "cell_type": "markdown",
      "source": [
        "###  4.) Calculate the Factorial of a Number"
      ],
      "metadata": {
        "id": "HiiBSr3BUMj9"
      }
    },
    {
      "cell_type": "code",
      "source": [
        "i = int(input(\"Enter a number:\"))\n",
        "fac=1\n",
        "while(i>0):\n",
        "  fac=fac*i\n",
        "  i=i-1\n",
        "print(fac)"
      ],
      "metadata": {
        "colab": {
          "base_uri": "https://localhost:8080/"
        },
        "id": "8dcK0C2AUKqc",
        "outputId": "c4f32e5e-444c-4a89-8f3e-ca5a0aab2942"
      },
      "execution_count": 22,
      "outputs": [
        {
          "output_type": "stream",
          "name": "stdout",
          "text": [
            "Enter a number:4\n",
            "24\n"
          ]
        }
      ]
    },
    {
      "cell_type": "markdown",
      "source": [
        "### 6) Remove Duplicates from a List"
      ],
      "metadata": {
        "id": "X9KNyu7oU6yA"
      }
    },
    {
      "cell_type": "code",
      "source": [
        "a = [1,2,3,2,3,4,45,3,21,3]\n",
        "a.remove(2)\n",
        "a"
      ],
      "metadata": {
        "colab": {
          "base_uri": "https://localhost:8080/"
        },
        "id": "0wS2TlXcUrDv",
        "outputId": "a256c859-59eb-4fd2-e59b-17a57acdb8a0"
      },
      "execution_count": 24,
      "outputs": [
        {
          "output_type": "execute_result",
          "data": {
            "text/plain": [
              "[1, 3, 2, 3, 4, 45, 3, 21, 3]"
            ]
          },
          "metadata": {},
          "execution_count": 24
        }
      ]
    },
    {
      "cell_type": "markdown",
      "source": [
        "### 7.Find the Common Elements in Two Lists"
      ],
      "metadata": {
        "id": "-Yp5BLR7VecF"
      }
    },
    {
      "cell_type": "code",
      "source": [
        "a= [1,2,3,4,5]\n",
        "b= [3,4,5,6,7,8]\n",
        "for i in a:\n",
        "  if i in b:\n",
        "    print(i)"
      ],
      "metadata": {
        "colab": {
          "base_uri": "https://localhost:8080/"
        },
        "id": "vWpQpCNtVDg2",
        "outputId": "72cfdd9d-7cde-4f75-f476-ad1f55dafaf4"
      },
      "execution_count": 27,
      "outputs": [
        {
          "output_type": "stream",
          "name": "stdout",
          "text": [
            "3\n",
            "4\n",
            "5\n"
          ]
        }
      ]
    },
    {
      "cell_type": "markdown",
      "source": [
        "### 8.Find the mode (most frequent element) in a list\n"
      ],
      "metadata": {
        "id": "2aQCwtJ7ZoDj"
      }
    },
    {
      "cell_type": "code",
      "source": [
        "a=[1,2,3,2,4,2,2,3,2,3,2,3,2]\n",
        "c=0\n",
        "for i in a:\n",
        "  c1=a.count(i)\n",
        "  if c1>c:\n",
        "    c=c1\n",
        "    print(i, c)\n",
        ""
      ],
      "metadata": {
        "colab": {
          "base_uri": "https://localhost:8080/"
        },
        "id": "YzmGP7wlVTVL",
        "outputId": "86bee289-e267-4f17-cc39-7444341230d5"
      },
      "execution_count": 30,
      "outputs": [
        {
          "output_type": "stream",
          "name": "stdout",
          "text": [
            "1 1\n",
            "2 7\n"
          ]
        }
      ]
    },
    {
      "cell_type": "markdown",
      "source": [
        "### 5 Find the GCD of Two Numbers\n"
      ],
      "metadata": {
        "id": "R9M-Q6wzZ54f"
      }
    },
    {
      "cell_type": "code",
      "source": [
        "import math\n",
        "math.gcd(10,15)"
      ],
      "metadata": {
        "colab": {
          "base_uri": "https://localhost:8080/"
        },
        "id": "HKRaDPC2XoaO",
        "outputId": "2edf3d42-7dbf-43b9-f382-c762544956c3"
      },
      "execution_count": 32,
      "outputs": [
        {
          "output_type": "execute_result",
          "data": {
            "text/plain": [
              "5"
            ]
          },
          "metadata": {},
          "execution_count": 32
        }
      ]
    }
  ]
}