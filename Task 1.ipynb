{
 "cells": [
  {
   "cell_type": "code",
   "execution_count": 6,
   "id": "b76cff62-a99f-4f9e-b2ca-d3203c0f6255",
   "metadata": {},
   "outputs": [],
   "source": [
    "#Valid Variables\n",
    "a=1\n",
    "a1=2\n",
    "_a=2\n",
    "amp=3\n",
    "valid=4\n",
    "invalid=5\n",
    "var1=6\n",
    "invar=7\n",
    "ump=8\n",
    "im=9\n",
    "op=0\n",
    "\n",
    "\n"
   ]
  },
  {
   "cell_type": "code",
   "execution_count": 8,
   "id": "887344ed-8c33-44f9-8247-d8a4f27f55f3",
   "metadata": {},
   "outputs": [
    {
     "ename": "SyntaxError",
     "evalue": "invalid decimal literal (3372824.py, line 2)",
     "output_type": "error",
     "traceback": [
      "\u001b[0;36m  Cell \u001b[0;32mIn[8], line 2\u001b[0;36m\u001b[0m\n\u001b[0;31m    1a=0\u001b[0m\n\u001b[0m    ^\u001b[0m\n\u001b[0;31mSyntaxError\u001b[0m\u001b[0;31m:\u001b[0m invalid decimal literal\n"
     ]
    }
   ],
   "source": [
    "#Invalid Variables \n",
    "1a=0\n",
    "in=1\n",
    "if=2\n",
    "78=ad\n",
    "7_for=4\n",
    "else=5\n",
    "elif=6\n",
    "90po=7\n",
    "str=8\n",
    "8cons=9\n",
    "9_var=10"
   ]
  },
  {
   "cell_type": "code",
   "execution_count": null,
   "id": "60dca0b7-bee5-4ead-8b45-bd253ef34bcb",
   "metadata": {},
   "outputs": [],
   "source": []
  }
 ],
 "metadata": {
  "kernelspec": {
   "display_name": "Python [conda env:base] *",
   "language": "python",
   "name": "conda-base-py"
  },
  "language_info": {
   "codemirror_mode": {
    "name": "ipython",
    "version": 3
   },
   "file_extension": ".py",
   "mimetype": "text/x-python",
   "name": "python",
   "nbconvert_exporter": "python",
   "pygments_lexer": "ipython3",
   "version": "3.12.7"
  }
 },
 "nbformat": 4,
 "nbformat_minor": 5
}
