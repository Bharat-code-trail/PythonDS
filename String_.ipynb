{
  "nbformat": 4,
  "nbformat_minor": 0,
  "metadata": {
    "colab": {
      "provenance": []
    },
    "kernelspec": {
      "name": "python3",
      "display_name": "Python 3"
    },
    "language_info": {
      "name": "python"
    }
  },
  "cells": [
    {
      "cell_type": "markdown",
      "source": [
        "# ***String:***\n",
        "A string is a sequence of characters enclosed in quotes (\"\" or '').\n",
        "\n",
        "In Python, strings are immutable.\n"
      ],
      "metadata": {
        "id": "zDfS4dXk3eOu"
      }
    },
    {
      "cell_type": "code",
      "execution_count": 1,
      "metadata": {
        "colab": {
          "base_uri": "https://localhost:8080/",
          "height": 35
        },
        "id": "GKl03IhI3aS0",
        "outputId": "38c6e206-951a-4870-e951-8d0216bcbd01"
      },
      "outputs": [
        {
          "output_type": "execute_result",
          "data": {
            "text/plain": [
              "'Python with data science'"
            ],
            "application/vnd.google.colaboratory.intrinsic+json": {
              "type": "string"
            }
          },
          "metadata": {},
          "execution_count": 1
        }
      ],
      "source": [
        "st=\"Python with data science\"\n",
        "st"
      ]
    },
    {
      "cell_type": "markdown",
      "source": [
        "# **Indexing in Strings:**"
      ],
      "metadata": {
        "id": "5bzspFLz4hQ3"
      }
    },
    {
      "cell_type": "code",
      "source": [
        "st=\"Python with data science\""
      ],
      "metadata": {
        "id": "uiD3eWmP4TDp"
      },
      "execution_count": 2,
      "outputs": []
    },
    {
      "cell_type": "code",
      "source": [
        "st[1]"
      ],
      "metadata": {
        "colab": {
          "base_uri": "https://localhost:8080/",
          "height": 35
        },
        "id": "dCR_8Cgn4pSI",
        "outputId": "949e4705-b8ce-4364-be9f-81c74b8c63fa"
      },
      "execution_count": 3,
      "outputs": [
        {
          "output_type": "execute_result",
          "data": {
            "text/plain": [
              "'y'"
            ],
            "application/vnd.google.colaboratory.intrinsic+json": {
              "type": "string"
            }
          },
          "metadata": {},
          "execution_count": 3
        }
      ]
    },
    {
      "cell_type": "code",
      "source": [
        "st[4]"
      ],
      "metadata": {
        "colab": {
          "base_uri": "https://localhost:8080/",
          "height": 35
        },
        "id": "AconYkx94q0I",
        "outputId": "46b9eafc-edc4-4fea-8da8-0d08d61f4df7"
      },
      "execution_count": 4,
      "outputs": [
        {
          "output_type": "execute_result",
          "data": {
            "text/plain": [
              "'o'"
            ],
            "application/vnd.google.colaboratory.intrinsic+json": {
              "type": "string"
            }
          },
          "metadata": {},
          "execution_count": 4
        }
      ]
    },
    {
      "cell_type": "code",
      "source": [
        "st[3]"
      ],
      "metadata": {
        "colab": {
          "base_uri": "https://localhost:8080/",
          "height": 35
        },
        "id": "lWXVidsZ4sbj",
        "outputId": "73221940-13f6-4141-dee7-ce04ffb1f030"
      },
      "execution_count": 5,
      "outputs": [
        {
          "output_type": "execute_result",
          "data": {
            "text/plain": [
              "'h'"
            ],
            "application/vnd.google.colaboratory.intrinsic+json": {
              "type": "string"
            }
          },
          "metadata": {},
          "execution_count": 5
        }
      ]
    },
    {
      "cell_type": "code",
      "source": [
        "st[-3]"
      ],
      "metadata": {
        "colab": {
          "base_uri": "https://localhost:8080/",
          "height": 35
        },
        "id": "4v8h87vG4tmv",
        "outputId": "c57a294f-b5d3-478d-e540-b13bff2269f8"
      },
      "execution_count": 6,
      "outputs": [
        {
          "output_type": "execute_result",
          "data": {
            "text/plain": [
              "'n'"
            ],
            "application/vnd.google.colaboratory.intrinsic+json": {
              "type": "string"
            }
          },
          "metadata": {},
          "execution_count": 6
        }
      ]
    },
    {
      "cell_type": "code",
      "source": [
        "st[-11]"
      ],
      "metadata": {
        "colab": {
          "base_uri": "https://localhost:8080/",
          "height": 35
        },
        "id": "aoDkepZi4u4l",
        "outputId": "3732068c-4133-442d-c462-8e2b3dfb68b5"
      },
      "execution_count": 7,
      "outputs": [
        {
          "output_type": "execute_result",
          "data": {
            "text/plain": [
              "'a'"
            ],
            "application/vnd.google.colaboratory.intrinsic+json": {
              "type": "string"
            }
          },
          "metadata": {},
          "execution_count": 7
        }
      ]
    },
    {
      "cell_type": "markdown",
      "source": [
        "# **Slicing in Strings**"
      ],
      "metadata": {
        "id": "E_WI3u3l4yTM"
      }
    },
    {
      "cell_type": "code",
      "source": [
        "st[2:11]"
      ],
      "metadata": {
        "colab": {
          "base_uri": "https://localhost:8080/",
          "height": 35
        },
        "id": "MaHy9sFq4wuJ",
        "outputId": "f0c91937-2339-42da-b26c-ec647bc31df5"
      },
      "execution_count": 8,
      "outputs": [
        {
          "output_type": "execute_result",
          "data": {
            "text/plain": [
              "'thon with'"
            ],
            "application/vnd.google.colaboratory.intrinsic+json": {
              "type": "string"
            }
          },
          "metadata": {},
          "execution_count": 8
        }
      ]
    },
    {
      "cell_type": "code",
      "source": [
        "st[-3:-1]"
      ],
      "metadata": {
        "colab": {
          "base_uri": "https://localhost:8080/",
          "height": 35
        },
        "id": "X0_MGRq944Za",
        "outputId": "e0a70f54-040c-4ed6-fc35-ab5d3d2ae8bf"
      },
      "execution_count": 9,
      "outputs": [
        {
          "output_type": "execute_result",
          "data": {
            "text/plain": [
              "'nc'"
            ],
            "application/vnd.google.colaboratory.intrinsic+json": {
              "type": "string"
            }
          },
          "metadata": {},
          "execution_count": 9
        }
      ]
    },
    {
      "cell_type": "code",
      "source": [
        "st[-13:-1]"
      ],
      "metadata": {
        "colab": {
          "base_uri": "https://localhost:8080/",
          "height": 35
        },
        "id": "_PuNU5zm47n3",
        "outputId": "f6401f02-f2a0-478f-fac9-a103ad99cd29"
      },
      "execution_count": 10,
      "outputs": [
        {
          "output_type": "execute_result",
          "data": {
            "text/plain": [
              "' data scienc'"
            ],
            "application/vnd.google.colaboratory.intrinsic+json": {
              "type": "string"
            }
          },
          "metadata": {},
          "execution_count": 10
        }
      ]
    },
    {
      "cell_type": "markdown",
      "source": [
        "# String Formatting\n",
        "String formatting allows inserting variables into strings dynamically.\n",
        "\n",
        "This is done using {} placeholders.\n"
      ],
      "metadata": {
        "id": "UVLncoBV5P6-"
      }
    },
    {
      "cell_type": "markdown",
      "source": [
        "Format Method:\n",
        "This is the .format() method that is used in the print statements to display the parameters.\n",
        "\n",
        "The only disadvantage is if there are many parameters then it becomes a challenge to make parameters in respective order."
      ],
      "metadata": {
        "id": "Bc5gzwM56SOJ"
      }
    },
    {
      "cell_type": "code",
      "source": [
        "name = \"Sai Bharat\"\n",
        "age = 21\n",
        "print(\"My name is {} and I'm {} years old.\".format(name, age))"
      ],
      "metadata": {
        "colab": {
          "base_uri": "https://localhost:8080/"
        },
        "id": "3ilzfZam4-FO",
        "outputId": "63ca12bb-11eb-4056-f718-e37b30fc0f54"
      },
      "execution_count": 11,
      "outputs": [
        {
          "output_type": "stream",
          "name": "stdout",
          "text": [
            "My name is Sai Bharat and I'm 21 years old.\n"
          ]
        }
      ]
    },
    {
      "cell_type": "code",
      "source": [
        "place = \"Shamshabad\"\n",
        "landmark= \"Hyderabad International Airport\"\n",
        "print(\"I live in {} that is near to {}\".format(place,landmark))\n"
      ],
      "metadata": {
        "colab": {
          "base_uri": "https://localhost:8080/"
        },
        "id": "v2Xof62z50Da",
        "outputId": "b47447ef-59da-4e75-e3f5-3abab44b0bc2"
      },
      "execution_count": 13,
      "outputs": [
        {
          "output_type": "stream",
          "name": "stdout",
          "text": [
            "I live in Shamshabad that is near to Hyderabad International Airport\n"
          ]
        }
      ]
    },
    {
      "cell_type": "markdown",
      "source": [
        "This doesn't make sense and have no meaning"
      ],
      "metadata": {
        "id": "WAzl7F-z7DBh"
      }
    },
    {
      "cell_type": "code",
      "source": [
        "place = \"Shamshabad\"\n",
        "landmark= \"Hyderabad International Airport\"\n",
        "print(\"I live in {} that is near to {}\".format(landmark, place))\n"
      ],
      "metadata": {
        "colab": {
          "base_uri": "https://localhost:8080/"
        },
        "id": "XQVpxv1p6H1e",
        "outputId": "080a3adf-0c76-4045-ffe2-7c7aa0c9b647"
      },
      "execution_count": 14,
      "outputs": [
        {
          "output_type": "stream",
          "name": "stdout",
          "text": [
            "I live in Hyderabad International Airport that is near to Shamshabad\n"
          ]
        }
      ]
    },
    {
      "cell_type": "markdown",
      "source": [
        "# **F-string method**\n",
        "\n",
        "To overcome this challenge we tend to use the fstring method"
      ],
      "metadata": {
        "id": "UvN_TnX77MEY"
      }
    },
    {
      "cell_type": "code",
      "source": [
        "print(f\"My name is {name} and I'm {age} years old\")"
      ],
      "metadata": {
        "colab": {
          "base_uri": "https://localhost:8080/"
        },
        "id": "INx7fRV17BYo",
        "outputId": "acebdfde-1b59-4360-9378-6237db9fb47f"
      },
      "execution_count": 15,
      "outputs": [
        {
          "output_type": "stream",
          "name": "stdout",
          "text": [
            "My name is Sai Bharat and I'm 21 years old\n"
          ]
        }
      ]
    },
    {
      "cell_type": "code",
      "source": [
        "print(f\"I live in {place} near to {landmark}\")"
      ],
      "metadata": {
        "colab": {
          "base_uri": "https://localhost:8080/"
        },
        "id": "pQWzxo8C7pLP",
        "outputId": "051fff08-3618-4265-f339-3b715450cbaf"
      },
      "execution_count": 17,
      "outputs": [
        {
          "output_type": "stream",
          "name": "stdout",
          "text": [
            "I live in Shamshabad near to Hyderabad International Airport\n"
          ]
        }
      ]
    },
    {
      "cell_type": "markdown",
      "source": [
        "# String Concatenation\n",
        "This is used to add two strings"
      ],
      "metadata": {
        "id": "82Qun3l280yu"
      }
    },
    {
      "cell_type": "code",
      "source": [
        "c= place +\" this place is near to \"+place\n",
        "print(c)"
      ],
      "metadata": {
        "colab": {
          "base_uri": "https://localhost:8080/"
        },
        "id": "O1p6kkzs8ANG",
        "outputId": "e9d4013d-bc94-4bb7-932c-628041de8f3e"
      },
      "execution_count": 18,
      "outputs": [
        {
          "output_type": "stream",
          "name": "stdout",
          "text": [
            "Shamshabad this place is near to Shamshabad\n"
          ]
        }
      ]
    },
    {
      "cell_type": "markdown",
      "source": [
        "# **String Methods:**\n",
        "\n",
        "Len():\n",
        "Specifies length of string"
      ],
      "metadata": {
        "id": "mxu5_q-59mza"
      }
    },
    {
      "cell_type": "code",
      "source": [
        "len(c)"
      ],
      "metadata": {
        "colab": {
          "base_uri": "https://localhost:8080/"
        },
        "id": "WZioAAWO9MXv",
        "outputId": "0770d09f-bd30-4621-a8c6-ef78503d9fd2"
      },
      "execution_count": 19,
      "outputs": [
        {
          "output_type": "execute_result",
          "data": {
            "text/plain": [
              "43"
            ]
          },
          "metadata": {},
          "execution_count": 19
        }
      ]
    },
    {
      "cell_type": "markdown",
      "source": [
        "# **Upper():**\n",
        "This gives string in upper case"
      ],
      "metadata": {
        "id": "PU01fNj8qXIp"
      }
    },
    {
      "cell_type": "code",
      "source": [
        "c.upper()"
      ],
      "metadata": {
        "colab": {
          "base_uri": "https://localhost:8080/",
          "height": 35
        },
        "id": "tlDfvwZ5p-xd",
        "outputId": "7c9a80a9-4b0a-490a-9b13-abe40a946224"
      },
      "execution_count": 20,
      "outputs": [
        {
          "output_type": "execute_result",
          "data": {
            "text/plain": [
              "'SHAMSHABAD THIS PLACE IS NEAR TO SHAMSHABAD'"
            ],
            "application/vnd.google.colaboratory.intrinsic+json": {
              "type": "string"
            }
          },
          "metadata": {},
          "execution_count": 20
        }
      ]
    },
    {
      "cell_type": "markdown",
      "source": [
        "# **Lower():**\n",
        "\n",
        "This gives string in Lower case."
      ],
      "metadata": {
        "id": "XCSKEv8Lqpym"
      }
    },
    {
      "cell_type": "code",
      "source": [
        "c.lower()"
      ],
      "metadata": {
        "colab": {
          "base_uri": "https://localhost:8080/",
          "height": 35
        },
        "id": "jae-Ui56qETk",
        "outputId": "8bf60fbc-7e6a-467c-cc6d-152f1706f413"
      },
      "execution_count": 21,
      "outputs": [
        {
          "output_type": "execute_result",
          "data": {
            "text/plain": [
              "'shamshabad this place is near to shamshabad'"
            ],
            "application/vnd.google.colaboratory.intrinsic+json": {
              "type": "string"
            }
          },
          "metadata": {},
          "execution_count": 21
        }
      ]
    },
    {
      "cell_type": "markdown",
      "source": [
        "# **count() Method**\n",
        "\n",
        "Returns the number of occurrences of a substring in a string."
      ],
      "metadata": {
        "id": "mTYjkuNnzS7k"
      }
    },
    {
      "cell_type": "code",
      "source": [
        "c.count('a')"
      ],
      "metadata": {
        "colab": {
          "base_uri": "https://localhost:8080/"
        },
        "id": "nNX2Mg7qqGrz",
        "outputId": "e7c020ea-6fdb-4a3d-ccb3-2143d0d24663"
      },
      "execution_count": 22,
      "outputs": [
        {
          "output_type": "execute_result",
          "data": {
            "text/plain": [
              "8"
            ]
          },
          "metadata": {},
          "execution_count": 22
        }
      ]
    },
    {
      "cell_type": "markdown",
      "source": [
        "# **split() Method**\n",
        "\n",
        "Splits a string into a list based on a delimiter."
      ],
      "metadata": {
        "id": "MeK78wAGzWJs"
      }
    },
    {
      "cell_type": "code",
      "source": [
        "c.split()"
      ],
      "metadata": {
        "colab": {
          "base_uri": "https://localhost:8080/"
        },
        "id": "r5EF9Kp3qLsd",
        "outputId": "43d39455-5f30-42ca-bac5-eb7971367827"
      },
      "execution_count": 23,
      "outputs": [
        {
          "output_type": "execute_result",
          "data": {
            "text/plain": [
              "['Shamshabad', 'this', 'place', 'is', 'near', 'to', 'Shamshabad']"
            ]
          },
          "metadata": {},
          "execution_count": 23
        }
      ]
    },
    {
      "cell_type": "markdown",
      "source": [
        "# **strip() Method**\n",
        "\n",
        "Removes leading and trailing whitespace (or specified characters)."
      ],
      "metadata": {
        "id": "bgzFuo1ozWkx"
      }
    },
    {
      "cell_type": "code",
      "source": [
        "c.strip()"
      ],
      "metadata": {
        "colab": {
          "base_uri": "https://localhost:8080/",
          "height": 35
        },
        "id": "PnCcY5AIqPQ_",
        "outputId": "069e25af-1a39-4551-ff18-72374dddadf9"
      },
      "execution_count": 24,
      "outputs": [
        {
          "output_type": "execute_result",
          "data": {
            "text/plain": [
              "'Shamshabad this place is near to Shamshabad'"
            ],
            "application/vnd.google.colaboratory.intrinsic+json": {
              "type": "string"
            }
          },
          "metadata": {},
          "execution_count": 24
        }
      ]
    },
    {
      "cell_type": "code",
      "source": [],
      "metadata": {
        "id": "Uo1OdqMlqRdk"
      },
      "execution_count": null,
      "outputs": []
    }
  ]
}