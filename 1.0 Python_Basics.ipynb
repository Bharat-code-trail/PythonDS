{
  "nbformat": 4,
  "nbformat_minor": 0,
  "metadata": {
    "colab": {
      "provenance": []
    },
    "kernelspec": {
      "name": "python3",
      "display_name": "Python 3"
    },
    "language_info": {
      "name": "python"
    }
  },
  "cells": [
    {
      "cell_type": "code",
      "execution_count": null,
      "metadata": {
        "id": "zoTaNgoCo5Te"
      },
      "outputs": [],
      "source": []
    },
    {
      "cell_type": "markdown",
      "source": [
        "# **What is Python?**\n",
        "\n",
        "Python is a high-level, interpreted programming language known for its simplicity and readability. It supports multiple paradigms like object-oriented, procedural, and functional programming. Python’s extensive libraries and community support make it widely used for web development, data science, automation, artificial intelligence\n",
        "\n"
      ],
      "metadata": {
        "id": "r4qHc-M5wJOx"
      }
    },
    {
      "cell_type": "markdown",
      "source": [
        "# Why do we use Python?\n",
        "\n",
        "Python is used for its simplicity, flexibility, and vast libraries. It allows rapid development with fewer lines of code, making it ideal for beginners and professionals. Python is widely used in automation, AI, web development, and data analysis due to its efficiency and cross-platform compatibility."
      ],
      "metadata": {
        "id": "GmQrcKByv-ff"
      }
    },
    {
      "cell_type": "markdown",
      "source": [
        "# **Applications of Python**\n",
        "\n",
        "Python is used in various fields like web development (Django, Flask), data science (Pandas, NumPy), artificial intelligence (TensorFlow, PyTorch), automation (Selenium), cybersecurity, game development, and cloud computing. Its versatility makes it a preferred language for both startups and large enterprises.\n",
        "\n"
      ],
      "metadata": {
        "id": "PkC8DlD7wY5m"
      }
    },
    {
      "cell_type": "markdown",
      "source": [
        "# What are comments and examples?\n",
        "\n",
        "Comments in Python are non-executable lines used for code explanation and readability. They are ignored during execution."
      ],
      "metadata": {
        "id": "NuCJVdgNwrAF"
      }
    },
    {
      "cell_type": "code",
      "source": [
        " # This is a single-line comment"
      ],
      "metadata": {
        "id": "bN01ycVQwdgP"
      },
      "execution_count": 1,
      "outputs": []
    },
    {
      "cell_type": "markdown",
      "source": [
        "# **What are keywords?**\n",
        "\n",
        "Keywords are reserved words in Python with predefined meanings that cannot be used as variable names."
      ],
      "metadata": {
        "id": "tzzJ8whZxLQe"
      }
    },
    {
      "cell_type": "markdown",
      "source": [
        "\n",
        "\n",
        "\t1.\tFalse\n",
        "\t2.\tNone\n",
        "\t3.\tTrue\n",
        "\t4.\tand\n",
        "\t5.\tas\n",
        "\t6.\tassert\n",
        "\t7.\tasync\n",
        "\t8.\tawait\n",
        "\t9.\tbreak\n",
        "\t10.\tclass\n",
        "\t11.\tcontinue\n",
        "\t12.\tdef\n",
        "\t13.\tdel\n",
        "\t14.\telif\n",
        "\t15.\telse\n",
        "\t16.\texcept\n",
        "\t17.\tfinally\n",
        "\t18.\tfor\n",
        "\t19.\tfrom\n",
        "\t20.\tglobal\n",
        "\t21.\tif\n",
        "\t22.\timport\n",
        "\t23.\tin\n",
        "\t24.\tis\n",
        "\t25.\tlambda\n",
        "\t26.\tnonlocal\n",
        "\t27.\tnot\n",
        "\t28.\tor\n",
        "\t29.\tpass\n",
        "\t30.\traise\n",
        "\t31.\treturn\n",
        "\t32.\ttry\n",
        "\t33.\twhile\n",
        "\t34.\twith\n",
        "\t35.\tyield\n"
      ],
      "metadata": {
        "id": "A7oP4oZGxZqm"
      }
    },
    {
      "cell_type": "markdown",
      "source": [
        "# **What are variables?**\n",
        "\n",
        "Variables store data values in Python. They act as placeholders for data and can hold different data types like numbers, strings, or lists"
      ],
      "metadata": {
        "id": "5fo7bk2jxp7N"
      }
    },
    {
      "cell_type": "code",
      "source": [
        "var= 10\n",
        "name=\"python\""
      ],
      "metadata": {
        "id": "eD8plK4lw7Jj"
      },
      "execution_count": 1,
      "outputs": []
    }
  ]
}
