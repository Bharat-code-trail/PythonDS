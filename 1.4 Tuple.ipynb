{
  "nbformat": 4,
  "nbformat_minor": 0,
  "metadata": {
    "colab": {
      "provenance": []
    },
    "kernelspec": {
      "name": "python3",
      "display_name": "Python 3"
    },
    "language_info": {
      "name": "python"
    }
  },
  "cells": [
    {
      "cell_type": "markdown",
      "source": [
        "# **Tuple**\n",
        "\n",
        "A tuple is an ordered, immutable collection of elements. It is similar to a list but cannot be modified after creation."
      ],
      "metadata": {
        "id": "rizQ2ymJ7gYw"
      }
    },
    {
      "cell_type": "code",
      "execution_count": 1,
      "metadata": {
        "id": "HZzgT7vb0A6V"
      },
      "outputs": [],
      "source": [
        "m = (1, 2, 3)"
      ]
    },
    {
      "cell_type": "code",
      "source": [
        "m"
      ],
      "metadata": {
        "colab": {
          "base_uri": "https://localhost:8080/"
        },
        "id": "-AqpzG8l7rby",
        "outputId": "b1f9e36a-88e4-4383-b7d5-818dd1384378"
      },
      "execution_count": 2,
      "outputs": [
        {
          "output_type": "execute_result",
          "data": {
            "text/plain": [
              "(1, 2, 3)"
            ]
          },
          "metadata": {},
          "execution_count": 2
        }
      ]
    },
    {
      "cell_type": "markdown",
      "source": [
        "# ***Tuple Methods():***"
      ],
      "metadata": {
        "id": "pmRzpIgx8n14"
      }
    },
    {
      "cell_type": "markdown",
      "source": [
        "# count(x) –\n",
        "\n",
        "Counts occurrences of x in the tuple"
      ],
      "metadata": {
        "id": "G6ISzPXx78H_"
      }
    },
    {
      "cell_type": "code",
      "source": [
        "t = (1, 2, 2, 3, 2,32,4,0,32,3,3,4,3,2,4,2,4,1,34,5,2)\n",
        "t.count(2)"
      ],
      "metadata": {
        "colab": {
          "base_uri": "https://localhost:8080/"
        },
        "id": "2XTbGIUI7sC4",
        "outputId": "2c9c2543-301d-4de4-c7bf-cc9f4ce0be22"
      },
      "execution_count": 4,
      "outputs": [
        {
          "output_type": "execute_result",
          "data": {
            "text/plain": [
              "6"
            ]
          },
          "metadata": {},
          "execution_count": 4
        }
      ]
    },
    {
      "cell_type": "markdown",
      "source": [
        "# index(x) –\n",
        " Returns the index of first occurrence of x"
      ],
      "metadata": {
        "id": "yIbBKPmf8ExX"
      }
    },
    {
      "cell_type": "code",
      "source": [
        "t.index(32)"
      ],
      "metadata": {
        "colab": {
          "base_uri": "https://localhost:8080/"
        },
        "id": "vMG_vpPJ72tO",
        "outputId": "172fe6dc-ac87-4229-81fd-acfcf0ac8168"
      },
      "execution_count": 5,
      "outputs": [
        {
          "output_type": "execute_result",
          "data": {
            "text/plain": [
              "5"
            ]
          },
          "metadata": {},
          "execution_count": 5
        }
      ]
    },
    {
      "cell_type": "code",
      "source": [
        "t.index(0)"
      ],
      "metadata": {
        "colab": {
          "base_uri": "https://localhost:8080/"
        },
        "id": "DlzRosxI8KpI",
        "outputId": "844f0224-843f-41cb-e834-69d7c9f1c97b"
      },
      "execution_count": 6,
      "outputs": [
        {
          "output_type": "execute_result",
          "data": {
            "text/plain": [
              "7"
            ]
          },
          "metadata": {},
          "execution_count": 6
        }
      ]
    },
    {
      "cell_type": "markdown",
      "source": [
        "# len(t) –\n",
        " Returns the length of the tuple"
      ],
      "metadata": {
        "id": "j8qDnIHv8QGE"
      }
    },
    {
      "cell_type": "code",
      "source": [
        "len(t)"
      ],
      "metadata": {
        "colab": {
          "base_uri": "https://localhost:8080/"
        },
        "id": "IabTmOiT8OAV",
        "outputId": "92b9dde5-bfcb-47a4-b7d0-ae44dac90f17"
      },
      "execution_count": 7,
      "outputs": [
        {
          "output_type": "execute_result",
          "data": {
            "text/plain": [
              "21"
            ]
          },
          "metadata": {},
          "execution_count": 7
        }
      ]
    },
    {
      "cell_type": "markdown",
      "source": [
        "# min(t) –\n",
        " Returns the smallest element"
      ],
      "metadata": {
        "id": "wTcZLm4M8W5g"
      }
    },
    {
      "cell_type": "code",
      "source": [
        "min(t)"
      ],
      "metadata": {
        "colab": {
          "base_uri": "https://localhost:8080/"
        },
        "id": "IgiG7Gje8URQ",
        "outputId": "e568d364-289b-40b3-98eb-dcc1de58132a"
      },
      "execution_count": 9,
      "outputs": [
        {
          "output_type": "execute_result",
          "data": {
            "text/plain": [
              "0"
            ]
          },
          "metadata": {},
          "execution_count": 9
        }
      ]
    },
    {
      "cell_type": "markdown",
      "source": [
        "# max(t) –\n",
        " Returns the largest element"
      ],
      "metadata": {
        "id": "a8NgnoT18d-3"
      }
    },
    {
      "cell_type": "code",
      "source": [
        "max(t)"
      ],
      "metadata": {
        "colab": {
          "base_uri": "https://localhost:8080/"
        },
        "id": "F5laC1BA8bPy",
        "outputId": "a2ab98ee-6360-42fe-a73f-5ec181aee17a"
      },
      "execution_count": 10,
      "outputs": [
        {
          "output_type": "execute_result",
          "data": {
            "text/plain": [
              "34"
            ]
          },
          "metadata": {},
          "execution_count": 10
        }
      ]
    },
    {
      "cell_type": "code",
      "source": [],
      "metadata": {
        "id": "Wxqs6Q6G8jZO"
      },
      "execution_count": null,
      "outputs": []
    }
  ]
}
